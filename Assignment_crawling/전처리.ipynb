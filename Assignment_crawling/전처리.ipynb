{
 "cells": [
  {
   "cell_type": "code",
   "execution_count": null,
   "metadata": {},
   "outputs": [],
   "source": [
    "import numpy as np\n",
    "import pandas as pd\n",
    "import matplotlib.pyplot as plt\n",
    "import seaborn as sns\n",
    "\n",
    "plt.style.use('seaborn')\n",
    "sns.set(font_scale=2.5)\n",
    "\n",
    "import missingno as msno    # 누락값 표시\n",
    "import warnings\n",
    "warnings.filterwarnings('ignore')  # 워닝 무시\n",
    "\n",
    "%matplotlib inline \n",
    "# 새로운 창 안 뜨고 노트북에 바로 뜸"
   ]
  },
  {
   "cell_type": "code",
   "execution_count": null,
   "metadata": {},
   "outputs": [],
   "source": [
    "data_wanted = pd.read_csv('./data/data_wanted.csv', encoding='euc-kr')\n",
    "data_programmers = pd.read_csv('./data/data_programmers.csv', encoding='euc-kr')"
   ]
  },
  {
   "cell_type": "code",
   "execution_count": null,
   "metadata": {},
   "outputs": [],
   "source": [
    "data_wanted\n",
    "data_programmers"
   ]
  },
  {
   "attachments": {},
   "cell_type": "markdown",
   "metadata": {},
   "source": [
    "## 데이터 전처리"
   ]
  },
  {
   "attachments": {},
   "cell_type": "markdown",
   "metadata": {},
   "source": [
    "### Wanted"
   ]
  },
  {
   "cell_type": "code",
   "execution_count": null,
   "metadata": {},
   "outputs": [],
   "source": [
    "# Location에서 '.한국' 제거\n",
    "\n",
    "total_data1 = total_data\n",
    "total_data1[\"Location\"] = list(map(lambda i: i.replace(\".한국\", \"\"), total_data[\"Location\"]))"
   ]
  },
  {
   "cell_type": "code",
   "execution_count": null,
   "metadata": {},
   "outputs": [],
   "source": [
    "# Position keyword 확인\n",
    "from collections import Counter\n",
    "\n",
    "arr = [i.split() for i in total_data1.Position]\n",
    "\n",
    "keywords = [j for i in arr for j in i]\n",
    "\n",
    "# Counter(keywords)\n",
    "list(total_data1.Position)"
   ]
  },
  {
   "cell_type": "code",
   "execution_count": null,
   "metadata": {},
   "outputs": [],
   "source": [
    "# Position 키워드에 따라 데이터 drop(238 -> 135)\n",
    "\n",
    "keywords = ['프론트', '프런트', '백', '앤드', '엔드', '풀', '스택', '웹', 'Front', 'Back', 'end',\n",
    "            'S/W', 'Software', 'SW', '소프트웨어', 'React', 'Python', 'Java'] \n",
    "            \n",
    "mask = total_data1['Position'].str.contains('|'.join(keywords), case = False)\n",
    "\n",
    "filtered_data = total_data1[mask]"
   ]
  },
  {
   "cell_type": "code",
   "execution_count": null,
   "metadata": {},
   "outputs": [],
   "source": [
    "# 'Skill' 채우기 : 'Position' 값에서 추출\n",
    "\n",
    "# 'Position'에서 키워드 선정 \n",
    "data_filled_sk[data_filled_sk[\"Skill\"].isna()].Position\n",
    "keywords = {'C++':\"C\", 'JS':\"Java Script\", 'Python':\"Python\", 'Node':\"Node\", 'React':\"React\"}\n",
    "\n",
    "mask = data_filled_sk[data_filled_sk[\"Skill\"].isna()]\n",
    "for i in mask[\"Position\"]:\n",
    "    for j in keywords.keys():\n",
    "        if j.casefold() in i.casefold():\n",
    "            mask.loc[mask[\"Position\"] == i, \"Skill\"] = keywords[j]\n",
    "\n",
    "data_filled_sk.loc[data_filled_sk[\"Skill\"].isna(), \"Skill\"] = mask[\"Skill\"]\n"
   ]
  },
  {
   "cell_type": "code",
   "execution_count": null,
   "metadata": {},
   "outputs": [],
   "source": [
    "# 'Skill' 채우기 후 NaN 값 확인\n",
    "for col in data_filled_sk:\n",
    "    msg = 'column: {:>10}\\t Number of NaN value: {:.0f}'.format(col, data_filled_sk[col].isnull().sum())\n",
    "    print(msg)\n",
    "\n",
    "data_filled_sk[data_filled_sk[\"Skill\"].isna()]"
   ]
  },
  {
   "cell_type": "code",
   "execution_count": null,
   "metadata": {},
   "outputs": [],
   "source": [
    "# 'Position' [풀, 프론트, 백]\n",
    "data_filled_sk[data_filled_sk[\"Company\"]==\"위메이드\"]\n",
    "data_filled_sk"
   ]
  },
  {
   "attachments": {},
   "cell_type": "markdown",
   "metadata": {},
   "source": [
    "### Programmers"
   ]
  },
  {
   "attachments": {},
   "cell_type": "markdown",
   "metadata": {},
   "source": [
    "## 데이터 시각화"
   ]
  },
  {
   "cell_type": "code",
   "execution_count": null,
   "metadata": {},
   "outputs": [],
   "source": [
    "# 기술 스택별 공고 갯수\n",
    "group_skill = data_filled_sk[\"Company\"].groupby(data_filled_sk[\"Skill\"]).count()\n",
    "print(group_skill)\n",
    "\n",
    "# 지역별 공고 갯수\n",
    "group_loc = data_filled_sk[\"Company\"].groupby(data_filled_sk[\"Location\"]).count()\n",
    "print(group_loc)"
   ]
  },
  {
   "cell_type": "code",
   "execution_count": null,
   "metadata": {},
   "outputs": [],
   "source": []
  }
 ],
 "metadata": {
  "kernelspec": {
   "display_name": "base",
   "language": "python",
   "name": "python3"
  },
  "language_info": {
   "codemirror_mode": {
    "name": "ipython",
    "version": 3
   },
   "file_extension": ".py",
   "mimetype": "text/x-python",
   "name": "python",
   "nbconvert_exporter": "python",
   "pygments_lexer": "ipython3",
   "version": "3.10.11"
  },
  "orig_nbformat": 4
 },
 "nbformat": 4,
 "nbformat_minor": 2
}
