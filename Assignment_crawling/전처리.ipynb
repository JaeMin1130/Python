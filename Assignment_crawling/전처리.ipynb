{
 "cells": [
  {
   "cell_type": "code",
   "execution_count": null,
   "metadata": {},
   "outputs": [],
   "source": [
    "import numpy as np\n",
    "import pandas as pd\n",
    "import matplotlib.pyplot as plt\n",
    "import seaborn as sns\n",
    "\n",
    "plt.style.use('seaborn')\n",
    "sns.set(font_scale=2.5)\n",
    "\n",
    "import missingno as msno    # 누락값 표시\n",
    "import warnings\n",
    "warnings.filterwarnings('ignore')  # 워닝 무시\n",
    "\n",
    "%matplotlib inline \n",
    "# 새로운 창 안 뜨고 노트북에 바로 뜸"
   ]
  },
  {
   "cell_type": "code",
   "execution_count": null,
   "metadata": {},
   "outputs": [],
   "source": [
    "data_wanted = pd.read_csv('./data/data_wanted.csv', encoding='euc-kr')"
   ]
  },
  {
   "cell_type": "code",
   "execution_count": null,
   "metadata": {},
   "outputs": [],
   "source": [
    "data_programmers\n",
    "\n",
    "data_wanted"
   ]
  },
  {
   "attachments": {},
   "cell_type": "markdown",
   "metadata": {},
   "source": [
    "## 데이터 전처리"
   ]
  },
  {
   "attachments": {},
   "cell_type": "markdown",
   "metadata": {},
   "source": [
    "### Wanted"
   ]
  },
  {
   "cell_type": "code",
   "execution_count": null,
   "metadata": {},
   "outputs": [],
   "source": [
    "# Location에서 '.한국' 제거\n",
    "\n",
    "data_wanted1 = data_wanted\n",
    "data_wanted1[\"Location\"] = list(map(lambda i: i.replace(\".한국\", \"\"), data_wanted[\"Location\"]))"
   ]
  },
  {
   "cell_type": "code",
   "execution_count": null,
   "metadata": {},
   "outputs": [],
   "source": [
    "# Position keyword 확인\n",
    "from collections import Counter\n",
    "\n",
    "arr = [i.split() for i in data_wanted1.Position]\n",
    "\n",
    "keywords = [j for i in arr for j in i]\n",
    "\n",
    "# Counter(keywords)\n",
    "list(data_wanted1.Position)"
   ]
  },
  {
   "cell_type": "code",
   "execution_count": null,
   "metadata": {},
   "outputs": [],
   "source": [
    "# Position 키워드에 따라 데이터 drop\n",
    "\n",
    "keywords = ['프론트', '프런트', '백', '앤드', '엔드', '풀', '스택', '웹', 'Front', 'Back', 'end',\n",
    "            'S/W', 'Software', 'SW', '소프트웨어', 'React', 'Python', 'Java'] \n",
    "            \n",
    "mask = data_wanted1['Position'].str.contains('|'.join(keywords), case = False)\n",
    "\n",
    "filtered_data = data_wanted1[mask]\n",
    "list(filtered_data.Position)"
   ]
  },
  {
   "cell_type": "code",
   "execution_count": null,
   "metadata": {},
   "outputs": [],
   "source": [
    "# 'Skill' 채우기 : 'Position' 값에서 추출\n",
    "\n",
    "# 'Position'에서 키워드 선정 \n",
    "filtered_data[filtered_data[\"Skill\"].isna()].Position\n",
    "keywords = {'C++':\"C\", 'JS':\"Java Script\", 'Python':\"Python\", 'Node':\"Node\", 'React':\"React\"}\n",
    "\n",
    "mask = filtered_data[filtered_data[\"Skill\"].isna()]\n",
    "\n",
    "for i in mask[\"Position\"]:\n",
    "    for j in keywords.keys():\n",
    "        if j.casefold() in i.casefold():\n",
    "            mask.loc[mask[\"Position\"] == i, \"Skill\"] = keywords[j]\n",
    "\n",
    "filtered_data.loc[filtered_data[\"Skill\"].isna(), \"Skill\"] = mask[\"Skill\"]"
   ]
  },
  {
   "cell_type": "code",
   "execution_count": 62,
   "metadata": {},
   "outputs": [
    {
     "name": "stdout",
     "output_type": "stream",
     "text": [
      "column:    Company\t Number of NaN value: 0\n",
      "column:   Position\t Number of NaN value: 0\n",
      "column:      Skill\t Number of NaN value: 0\n",
      "column:   Location\t Number of NaN value: 0\n"
     ]
    }
   ],
   "source": [
    "# 'Skill' 채우기 후 NaN 값 확인\n",
    "for col in filtered_data:\n",
    "    msg = 'column: {:>10}\\t Number of NaN value: {:.0f}'.format(col, filtered_data[col].isnull().sum())\n",
    "    print(msg)\n",
    "\n",
    "filtered_data[filtered_data[\"Skill\"].isna()]\n",
    "\n",
    "# Skill이 NaN인 row drop\n",
    "filtered_data = filtered_data.drop(index=filtered_data[filtered_data['Skill'].isna()].index, axis=1)"
   ]
  },
  {
   "cell_type": "code",
   "execution_count": 68,
   "metadata": {},
   "outputs": [
    {
     "data": {
      "text/plain": [
       "['서울',\n",
       " '서울',\n",
       " '경기',\n",
       " '서울',\n",
       " '서울',\n",
       " '서울',\n",
       " '서울',\n",
       " '서울',\n",
       " '서울',\n",
       " '서울',\n",
       " '서울',\n",
       " '서울',\n",
       " '서울',\n",
       " '서울',\n",
       " '경기',\n",
       " '서울',\n",
       " '서울',\n",
       " '서울',\n",
       " '서울',\n",
       " '서울',\n",
       " '서울',\n",
       " '인천',\n",
       " '인천',\n",
       " '인천',\n",
       " '서울',\n",
       " '경기',\n",
       " '서울',\n",
       " '서울',\n",
       " '서울',\n",
       " '대구',\n",
       " '대구',\n",
       " '서울',\n",
       " '서울',\n",
       " '서울',\n",
       " '서울',\n",
       " '서울',\n",
       " '서울',\n",
       " '서울',\n",
       " '서울',\n",
       " '서울',\n",
       " '서울',\n",
       " '서울',\n",
       " '경기',\n",
       " '서울',\n",
       " '서울',\n",
       " '서울',\n",
       " '서울',\n",
       " '서울',\n",
       " '서울',\n",
       " '서울',\n",
       " '대전',\n",
       " '서울',\n",
       " '서울',\n",
       " '서울',\n",
       " '서울',\n",
       " '서울',\n",
       " '서울',\n",
       " '경기',\n",
       " '서울',\n",
       " '서울',\n",
       " '경기',\n",
       " '서울',\n",
       " '서울',\n",
       " '서울',\n",
       " '경기',\n",
       " '서울',\n",
       " '서울',\n",
       " '서울',\n",
       " '서울',\n",
       " '서울',\n",
       " '서울',\n",
       " '경남',\n",
       " '서울',\n",
       " '서울',\n",
       " '서울',\n",
       " '서울',\n",
       " '경기',\n",
       " '인천',\n",
       " '서울',\n",
       " '서울',\n",
       " '서울',\n",
       " '울산',\n",
       " '서울',\n",
       " '서울',\n",
       " '경기',\n",
       " '서울',\n",
       " '서울',\n",
       " '서울',\n",
       " '서울',\n",
       " '서울',\n",
       " '서울',\n",
       " '서울',\n",
       " '경기',\n",
       " '서울',\n",
       " '서울',\n",
       " '서울',\n",
       " '서울',\n",
       " '서울',\n",
       " '부산',\n",
       " '부산',\n",
       " '서울',\n",
       " '서울']"
      ]
     },
     "execution_count": 68,
     "metadata": {},
     "output_type": "execute_result"
    }
   ],
   "source": [
    "# 'Position' [웹 풀스택, 서버/백엔드, 프론트엔드]로 분류\n",
    "list(filtered_data.Location)\n"
   ]
  },
  {
   "attachments": {},
   "cell_type": "markdown",
   "metadata": {},
   "source": [
    "### Programmers"
   ]
  },
  {
   "cell_type": "code",
   "execution_count": null,
   "metadata": {},
   "outputs": [],
   "source": [
    "data_programmers = pd.read_csv('./data/data_programmers.csv', encoding='euc-kr')"
   ]
  },
  {
   "cell_type": "code",
   "execution_count": null,
   "metadata": {},
   "outputs": [],
   "source": [
    "# 'Position' [웹 풀스택, 서버/백엔드, 프론트엔드]로 분류\n",
    "arr = list(map(lambda j: j[0], map(lambda i: i.split(), data_programmers.Position)))\n",
    "arr = list(map(lambda i: i.replace(\"웹\", \"풀스택\"), arr))\n",
    "\n",
    "data_programmers1 = data_programmers\n",
    "data_programmers1['Position'] = arr"
   ]
  },
  {
   "cell_type": "code",
   "execution_count": 65,
   "metadata": {},
   "outputs": [
    {
     "name": "stdout",
     "output_type": "stream",
     "text": [
      "column:    Company\t Number of NaN value: 0\n",
      "column:   Position\t Number of NaN value: 0\n",
      "column:      Skill\t Number of NaN value: 0\n",
      "column:   Location\t Number of NaN value: 0\n"
     ]
    }
   ],
   "source": [
    "# 'Skill'  NaN 값 확인\n",
    "for col in data_programmers1:\n",
    "    msg = 'column: {:>10}\\t Number of NaN value: {:.0f}'.format(col, data_programmers1[col].isnull().sum())\n",
    "    print(msg)\n",
    "\n",
    "data_programmers1[data_programmers1[\"Skill\"].isna()]\n",
    "\n",
    "# Skill이 NaN인 row drop(15 rows)\n",
    "data_programmers1 = data_programmers1.drop(index=data_programmers1[data_programmers1['Skill'].isna()].index, axis=1)"
   ]
  },
  {
   "cell_type": "code",
   "execution_count": 71,
   "metadata": {},
   "outputs": [
    {
     "data": {
      "text/plain": [
       "0            신입 서울시 중구\n",
       "1           신입 경기도 성남시\n",
       "2           신입 서울시 서초구\n",
       "3          신입 대한민국 경기도\n",
       "5            신입 서울 서초구\n",
       "            ...       \n",
       "123       경력 무관 서울 서초구\n",
       "124        경력 무관 서울 중구\n",
       "127       경력 무관 서울 강남구\n",
       "128       경력 무관 서울 서초구\n",
       "130    경력 무관 서울특별시 구로구\n",
       "Name: Location, Length: 116, dtype: object"
      ]
     },
     "execution_count": 71,
     "metadata": {},
     "output_type": "execute_result"
    }
   ],
   "source": [
    "# 'Location' 정리\n",
    "list(data_programmers1.Location)\n",
    "keywords = ['서울', '경기', '부산', '대전', '대구']\n",
    "location = data_programmers1.Location\n",
    "for i in keywords:\n",
    "    for j in location:\n",
    "        if i in j:\n",
    "            j = i\n",
    "            break"
   ]
  },
  {
   "attachments": {},
   "cell_type": "markdown",
   "metadata": {},
   "source": [
    "## 데이터 시각화"
   ]
  },
  {
   "cell_type": "code",
   "execution_count": null,
   "metadata": {},
   "outputs": [],
   "source": [
    "# 기술 스택별 공고 갯수\n",
    "group_skill = data_filled_sk[\"Company\"].groupby(data_filled_sk[\"Skill\"]).count()\n",
    "print(group_skill)\n",
    "\n",
    "# 지역별 공고 갯수\n",
    "group_loc = data_filled_sk[\"Company\"].groupby(data_filled_sk[\"Location\"]).count()\n",
    "print(group_loc)"
   ]
  },
  {
   "cell_type": "code",
   "execution_count": null,
   "metadata": {},
   "outputs": [],
   "source": []
  }
 ],
 "metadata": {
  "kernelspec": {
   "display_name": "base",
   "language": "python",
   "name": "python3"
  },
  "language_info": {
   "codemirror_mode": {
    "name": "ipython",
    "version": 3
   },
   "file_extension": ".py",
   "mimetype": "text/x-python",
   "name": "python",
   "nbconvert_exporter": "python",
   "pygments_lexer": "ipython3",
   "version": "3.10.9"
  },
  "orig_nbformat": 4
 },
 "nbformat": 4,
 "nbformat_minor": 2
}
