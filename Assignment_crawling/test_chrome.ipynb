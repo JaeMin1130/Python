{
 "cells": [
  {
   "cell_type": "code",
   "execution_count": null,
   "metadata": {},
   "outputs": [],
   "source": [
    "from selenium import webdriver\n",
    "from selenium.webdriver.chrome.options import Options as ChromeOptions\n",
    "\n",
    "\n",
    "def test_basic_options():\n",
    "    options = ChromeOptions()\n",
    "    driver = webdriver.Chrome(options=options)\n",
    "\n",
    "    driver.quit()\n",
    "\n",
    "def test_keep_browser_open():\n",
    "    chrome_options = ChromeOptions()\n",
    "    chrome_options.add_experimental_option(\"detach\", True)\n",
    "\n",
    "    driver = webdriver.Chrome(options=chrome_options)\n",
    "    driver.get('http://selenium.dev')\n",
    "\n",
    "    driver.quit()\n",
    "\n",
    "def test_headless():\n",
    "    chrome_options = ChromeOptions()\n",
    "    chrome_options.add_argument(\"--headless=new\")\n",
    "\n",
    "    driver = webdriver.Chrome(options=chrome_options)\n",
    "    driver.get('http://selenium.dev')\n",
    "\n",
    "    driver.quit()\n",
    "\n",
    "def exclude_switches():\n",
    "    chrome_options = ChromeOptions()\n",
    "    chrome_options.add_experimental_option('excludeSwitches', ['enable-automation'])\n",
    "\n",
    "    driver = webdriver.Chrome(options=chrome_options)\n",
    "    driver.get('http://selenium.dev')\n",
    "\n",
    "    driver.quit()"
   ]
  }
 ],
 "metadata": {
  "language_info": {
   "name": "python"
  },
  "orig_nbformat": 4
 },
 "nbformat": 4,
 "nbformat_minor": 2
}
