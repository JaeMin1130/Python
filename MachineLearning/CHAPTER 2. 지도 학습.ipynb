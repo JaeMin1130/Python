{
 "cells": [
  {
   "cell_type": "code",
   "execution_count": null,
   "id": "03300429",
   "metadata": {},
   "outputs": [],
   "source": [
    "import numpy as np\n",
    "import pandas as pd\n",
    "import matplotlib.pyplot as plt\n",
    "import seaborn as sns\n",
    "plt.style.use('seaborn')\n",
    "sns.set(font_scale=1.5)\n",
    "\n",
    "import missingno as msno    # 누락값 표시\n",
    "import warnings\n",
    "warnings.filterwarnings('ignore')  # dnjsld antl\n",
    "\n",
    "%matplotlib inline"
   ]
  },
  {
   "cell_type": "markdown",
   "id": "e49a7337",
   "metadata": {},
   "source": [
    "# k-NN"
   ]
  },
  {
   "cell_type": "markdown",
   "id": "295129a7",
   "metadata": {},
   "source": [
    "## k-NN Classification"
   ]
  },
  {
   "cell_type": "code",
   "execution_count": null,
   "id": "c5c63d36",
   "metadata": {},
   "outputs": [],
   "source": [
    "from sklearn.model_selection import train_test_split\n",
    "from sklearn.neighbors import KNeighborsClassifier\n",
    "\n",
    "X, y = mglearn.datasets.make_forge()\n",
    "X_train, X_test, y_train, y_test = train_test_split(X,y,random_state=0)\n",
    "\n",
    "clf =  KNeighborsClassifier(n_neighbors=3)\n",
    "clf.fit(X_train, y_train)\n",
    "clf.predict(X_test)\n",
    "clf.score(X_test, y_test)"
   ]
  },
  {
   "cell_type": "code",
   "execution_count": null,
   "id": "d604a7cf",
   "metadata": {
    "collapsed": true
   },
   "outputs": [],
   "source": [
    "f, ax = plt.subplots(1,3, figsize=(10,3), squeeze=True)\n",
    "for n_neighbors, ax in zip([1,3,9], ax):\n",
    "    clf = KNeighborsClassifier(n_neighbors=n_neighbors).fit(X,y)\n",
    "    mglearn.plots.plot_2d_separator(clf, X, fill=True, eps=0.5, ax=ax, alpha=.4)\n",
    "    mglearn.discrete_scatter(X[:,0],X[:,1],y,ax=ax)\n",
    "    ax.set_title('{} neighbors'.format(n_neighbors))\n",
    "    ax.set_xlabel('class 0')\n",
    "    ax.set_ylabel('class 1')\n",
    "ax.legend(loc=3)"
   ]
  },
  {
   "cell_type": "code",
   "execution_count": null,
   "id": "07ee13f2",
   "metadata": {
    "collapsed": true
   },
   "outputs": [],
   "source": [
    "from sklearn.datasets import load_breast_cancer\n",
    "cancer= load_breast_cancer()\n",
    "X_train, X_test, y_train, y_test = train_test_split(\n",
    "    cancer.data, cancer.target, stratify=cancer.target, random_state=66)\n",
    "train_accuracy=[]\n",
    "test_accuracy=[]\n",
    "neighbors_settings=range(1,11)\n",
    "\n",
    "for n_neighbors in neighbors_settings:\n",
    "    clf=KNeighborsClassifier(n_neighbors=n_neighbors)\n",
    "    clf.fit(X_train, y_train)\n",
    "    train_accuracy.append(clf.score(X_train, y_train))\n",
    "    test_accuracy.append(clf.score(X_test, y_test))\n",
    "    \n",
    "plt.plot(neighbors_settings, train_accuracy, label='train accuracy')\n",
    "plt.plot(neighbors_settings, test_accuracy, label='test accuracy')\n",
    "plt.ylabel('Accuracy')\n",
    "plt.xlabel('n_neighbors')\n",
    "plt.legend()"
   ]
  },
  {
   "cell_type": "markdown",
   "id": "34e10393",
   "metadata": {},
   "source": [
    "## k-NN Regression"
   ]
  },
  {
   "cell_type": "code",
   "execution_count": null,
   "id": "6aa458ae",
   "metadata": {},
   "outputs": [],
   "source": [
    "from sklearn.neighbors import KNeighborsRegressor\n",
    "X,y = mglearn.datasets.make_wave(n_samples=40)\n",
    "X_train, X_test, y_train, y_test = train_test_split(X,y, random_state=0)\n",
    "reg=KNeighborsRegressor(n_neighbors=3)\n",
    "reg.fit(X_train, y_train)\n",
    "print(reg.predict(X_test))\n",
    "reg.score(X_test, y_test)"
   ]
  },
  {
   "cell_type": "code",
   "execution_count": null,
   "id": "7e6892e0",
   "metadata": {
    "collapsed": true
   },
   "outputs": [],
   "source": [
    "f, ax= plt.subplots(1,3, figsize=(15,4))\n",
    "line= np.linspace(-3,3,1000).reshape(-1,1)\n",
    "for n_neighbors, ax in zip([1,3,9], ax):\n",
    "    reg=KNeighborsRegressor(n_neighbors=n_neighbors)\n",
    "    reg.fit(X_train, y_train)\n",
    "    ax.plot(line, reg.predict(line))\n",
    "    ax.plot(X_train, y_train, '^', c=mglearn.cm2(0), markersize=8)\n",
    "    ax.plot(X_test, y_test, 'v', c=mglearn.cm2(1), markersize=8)\n",
    "    \n",
    "    ax.set_title('{}neighbors train score:{:.2f}, test score:{:.2f}'.format(\n",
    "    n_neighbors, reg.score(X_train, y_train), reg.score(X_test, y_test)))\n",
    "    ax.set_xlabel('Value')\n",
    "    ax.set_ylabel('Target')\n",
    "ax.legend(['model prediction', 'train data/target', 'test data/target'], loc='best')"
   ]
  },
  {
   "cell_type": "markdown",
   "id": "ac5d670e",
   "metadata": {},
   "source": [
    "# 선형모델"
   ]
  },
  {
   "cell_type": "markdown",
   "id": "76adf589",
   "metadata": {},
   "source": [
    "## 회귀의 선형 모델"
   ]
  },
  {
   "cell_type": "markdown",
   "id": "b0114f44",
   "metadata": {},
   "source": [
    "### 선형 회귀(최소제곱법)"
   ]
  },
  {
   "cell_type": "code",
   "execution_count": null,
   "id": "4a32eb23",
   "metadata": {},
   "outputs": [],
   "source": [
    "from sklearn.linear_model import LinearRegression\n",
    "X, y = mglearn.datasets.make_wave(n_samples=60)\n",
    "X_train, X_test, y_train, y_test= train_test_split(X,y,random_state=42)\n",
    "lr=LinearRegression()\n",
    "lr.fit(X_train, y_train)\n",
    "print(lr.score(X_train, y_train))   # train score와 test score의 차이가 거의 없다. => 과소적합 \n",
    "lr.score(X_test, y_test)"
   ]
  },
  {
   "cell_type": "code",
   "execution_count": null,
   "id": "5861aad3",
   "metadata": {
    "scrolled": true
   },
   "outputs": [],
   "source": [
    "X, y = mglearn.datasets.load_extended_boston()\n",
    "X_train, X_test, y_train, y_test= train_test_split(X,y,random_state=0)\n",
    "lr=LinearRegression()\n",
    "lr.fit(X_train, y_train)\n",
    "print(lr.score(X_train, y_train))    # train score와 test score의 차이가 심하다. => 과대적합\n",
    "lr.score(X_test, y_test)"
   ]
  },
  {
   "cell_type": "markdown",
   "id": "d2c40afb",
   "metadata": {},
   "source": [
    "### 릿지 회귀"
   ]
  },
  {
   "cell_type": "code",
   "execution_count": null,
   "id": "301bf8bb",
   "metadata": {
    "collapsed": true
   },
   "outputs": [],
   "source": [
    "from sklearn.linear_model import Ridge\n",
    "ridge = Ridge().fit(X_train,y_train)\n",
    "print(ridge.score(X_train, y_train))\n",
    "ridge.score(X_test, y_test)"
   ]
  },
  {
   "cell_type": "code",
   "execution_count": null,
   "id": "658c6573",
   "metadata": {
    "collapsed": true
   },
   "outputs": [],
   "source": [
    "ridge10=Ridge(alpha=10).fit(X_train, y_train)\n",
    "ridge01=Ridge(alpha=0.1).fit(X_train, y_train)\n",
    "plt.figure(figsize=(18,8))\n",
    "plt.plot(ridge10.coef_,'^', label='Ridge alpha=10')\n",
    "plt.plot(ridge.coef_,'s', label='Ridge alpha=1')\n",
    "plt.plot(ridge01.coef_,'v',label='Ridge alpha=0.1')\n",
    "\n",
    "plt.plot(lr.coef_, 'o', label='LinearRegression')\n",
    "plt.xlabel('feature list')\n",
    "plt.ylabel('feature value')\n",
    "plt.ylim(-25,25)\n",
    "plt.hlines(0,0, len(lr.coef_))\n",
    "plt.legend()"
   ]
  },
  {
   "cell_type": "code",
   "execution_count": null,
   "id": "0df8b322",
   "metadata": {
    "collapsed": true
   },
   "outputs": [],
   "source": [
    "mglearn.plots.plot_ridge_n_samples()"
   ]
  },
  {
   "cell_type": "markdown",
   "id": "615e7da3",
   "metadata": {},
   "source": [
    "### 라쏘"
   ]
  },
  {
   "cell_type": "code",
   "execution_count": null,
   "id": "5a8d12d0",
   "metadata": {},
   "outputs": [],
   "source": [
    "from sklearn.linear_model import Lasso\n",
    "lasso = Lasso().fit(X_train, y_train)\n",
    "print(lasso.score(X_train, y_train))\n",
    "print(lasso.score(X_test, y_test))        \n",
    "np.sum(lasso.coef_!=0)                  # 104개 중 4개만 사용"
   ]
  },
  {
   "cell_type": "code",
   "execution_count": null,
   "id": "73f449d4",
   "metadata": {},
   "outputs": [],
   "source": [
    "lasso001=Lasso(alpha=0.01, max_iter=100000).fit(X_train, y_train)\n",
    "print(lasso001.score(X_train, y_train))\n",
    "print(lasso001.score(X_test, y_test))        \n",
    "np.sum(lasso001.coef_!=0)   "
   ]
  },
  {
   "cell_type": "markdown",
   "id": "a29d3656",
   "metadata": {},
   "source": [
    "## 분류의 선형 모델"
   ]
  },
  {
   "cell_type": "markdown",
   "id": "ccf70150",
   "metadata": {},
   "source": [
    "### LogisticRegression"
   ]
  },
  {
   "cell_type": "code",
   "execution_count": null,
   "id": "de678e25",
   "metadata": {},
   "outputs": [],
   "source": [
    "from sklearn.linear_model import LogisticRegression\n",
    "from sklearn.model_selection import train_test_split\n",
    "from sklearn.datasets import load_breast_cancer\n",
    "\n",
    "cancer=load_breast_cancer()\n",
    "X_train, X_test, y_train, y_test= train_test_split(cancer.data, cancer.target, stratify=cancer.target, random_state=42)\n",
    "\n",
    "logreg= LogisticRegression().fit(X_train, y_train)\n",
    "\n",
    "print('{:.3f}'.format(logreg.score(X_train, y_train)))\n",
    "print('{:.3f}'.format(logreg.score(X_test, y_test)))"
   ]
  },
  {
   "cell_type": "code",
   "execution_count": null,
   "id": "2cbd02b2",
   "metadata": {},
   "outputs": [],
   "source": [
    "\n",
    "# 특성 별로 계수에 특이성이 있는지 확인하기\n",
    "plt.figure(figsize=(8,5))\n",
    "for C, marker in zip([0.001, 1, 100], ['^', 'v', 'o']):\n",
    "    lr=LogisticRegression(C=C).fit(X_train, y_train)\n",
    "    plt.plot(lr.coef_.T, marker, label='C={:.3f}'.format(C))\n",
    "plt.xticks(range(cancer.data.shape[1]), cancer.feature_names, rotation=90)\n",
    "plt.hlines(0,0, cancer.data.shape[1])\n",
    "plt.xlabel('Feature')\n",
    "plt.ylabel('w')\n",
    "plt.ylim(-5,5)\n",
    "plt.legend(loc=2)"
   ]
  },
  {
   "cell_type": "markdown",
   "id": "c4d49187",
   "metadata": {},
   "source": [
    "### 일대다 방법(one-vs.-rest)"
   ]
  },
  {
   "cell_type": "code",
   "execution_count": null,
   "id": "6e87e188",
   "metadata": {},
   "outputs": [],
   "source": [
    "# LinearSVC로 3개의 이진분류기 결정 경계(1차원)\n",
    "\n",
    "from sklearn.svm import LinearSVC\n",
    "\n",
    "linear_svc = LinearSVC().fit(X,y)\n",
    "\n",
    "print('w shape: ', linear_svc.coef_.shape)\n",
    "print('b shape: ', linear_svc.intercept_.shape)\n",
    "\n",
    "\n",
    "line = np.linspace(-15,10)\n",
    "for coef, intercept, color in zip(linear_svc.coef_, linear_svc.intercept_, mglearn.cm3.colors):\n",
    "    plt.plot(line, -(line*coef[0]+intercept)/coef[1], c=color)\n",
    "plt.ylim(-10,15)\n",
    "plt.xlim(-10,8)\n",
    "plt.xlabel('Feature 0')\n",
    "plt.ylabel('Feature 1')\n",
    "plt.legend(['class 0', 'class 1', 'class 2', 'class 0 line', 'class 1 line', 'class 2 line'], loc=(1.01, 0.3))\n",
    "plt.show()"
   ]
  },
  {
   "cell_type": "markdown",
   "id": "84f169fa",
   "metadata": {},
   "source": [
    "# Naive Bayes Classifier"
   ]
  },
  {
   "cell_type": "code",
   "execution_count": null,
   "id": "86ce6cfb",
   "metadata": {},
   "outputs": [],
   "source": []
  },
  {
   "cell_type": "markdown",
   "id": "09f4f306",
   "metadata": {},
   "source": [
    "# Decision Tree"
   ]
  },
  {
   "cell_type": "code",
   "execution_count": null,
   "id": "8efc739e",
   "metadata": {},
   "outputs": [],
   "source": []
  }
 ],
 "metadata": {
  "kernelspec": {
   "display_name": "Python 3 (ipykernel)",
   "language": "python",
   "name": "python3"
  },
  "language_info": {
   "codemirror_mode": {
    "name": "ipython",
    "version": 3
   },
   "file_extension": ".py",
   "mimetype": "text/x-python",
   "name": "python",
   "nbconvert_exporter": "python",
   "pygments_lexer": "ipython3",
   "version": "3.10.11"
  }
 },
 "nbformat": 4,
 "nbformat_minor": 5
}
