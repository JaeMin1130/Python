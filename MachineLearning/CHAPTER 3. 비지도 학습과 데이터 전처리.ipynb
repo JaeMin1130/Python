{
 "cells": [
  {
   "cell_type": "code",
   "execution_count": null,
   "metadata": {},
   "outputs": [],
   "source": [
    "import numpy as np\n",
    "import pandas as pd\n",
    "import matplotlib.pyplot as plt\n",
    "import seaborn as sns\n",
    "plt.style.use('seaborn')\n",
    "sns.set(font_scale=1)\n",
    "\n",
    "import missingno as msno    # 누락값 표시\n",
    "import warnings\n",
    "import mglearn\n",
    "warnings.filterwarnings('ignore')  # 워닝 무시\n",
    "from sklearn.model_selection import train_test_split\n",
    "%matplotlib inline"
   ]
  },
  {
   "cell_type": "markdown",
   "metadata": {},
   "source": [
    "# 비지도 변환 알고리즘"
   ]
  },
  {
   "cell_type": "markdown",
   "metadata": {},
   "source": [
    "## 주성분 분석\n"
   ]
  },
  {
   "cell_type": "markdown",
   "metadata": {},
   "source": [
    "### 차원 축소"
   ]
  },
  {
   "cell_type": "code",
   "execution_count": null,
   "metadata": {},
   "outputs": [],
   "source": [
    "from sklearn.datasets import load_breast_cancer\n",
    "cancer =  load_breast_cancer()\n",
    "X_train, X_test, y_train, y_test =  train_test_split(cancer.data, cancer.target, random_state=0)"
   ]
  },
  {
   "cell_type": "code",
   "execution_count": null,
   "metadata": {},
   "outputs": [],
   "source": [
    "from sklearn.preprocessing import StandardScaler\n",
    "# 특성의 스케일이 서로 다르면 올바른 주성분 방향을 찾을 수 없으니, PCA를 사용할 때는 표준값으로 바꿔야 한다.\n",
    "scaler = StandardScaler()\n",
    "X_scaled = scaler.fit_transform(cancer.data)\n",
    "from sklearn.decomposition import PCA\n",
    "# 데이터의 처음 두 개의 주성분만 유지한다.\n",
    "pca = PCA(n_components=2)\n",
    "X_pca = pca.fit_transform(X_scaled)\n",
    "plt.figure(figsize=(8,8))\n",
    "mglearn.discrete_scatter(X_pca[:,0], X_pca[:,1], cancer.target)\n",
    "plt.legend(['malignant', 'benign'], loc='best')\n",
    "plt.gca().set_aspect('equal')\n",
    "plt.xlabel('first com')\n",
    "plt.ylabel('second com')"
   ]
  },
  {
   "cell_type": "code",
   "execution_count": null,
   "metadata": {},
   "outputs": [],
   "source": [
    "pca.components_"
   ]
  },
  {
   "cell_type": "code",
   "execution_count": null,
   "metadata": {},
   "outputs": [],
   "source": [
    "plt.matshow(pca.components_, cmap='viridis')\n",
    "plt.yticks([0,1], ['First com', 'Second com'])\n",
    "plt.colorbar()\n",
    "plt.xticks(range(len(cancer.feature_names)),    \n",
    "                cancer.feature_names, rotation=60, ha='left')\n",
    "plt.xlabel('Feature')\n",
    "plt.ylabel('Component')"
   ]
  },
  {
   "cell_type": "markdown",
   "metadata": {},
   "source": [
    "### 특성 추출"
   ]
  },
  {
   "cell_type": "code",
   "execution_count": null,
   "metadata": {},
   "outputs": [],
   "source": [
    "# 데이터셋이 편중되어 있음을 확인\n",
    "\n",
    "from sklearn.datasets import fetch_lfw_people\n",
    "people = fetch_lfw_people(min_faces_per_person=20, resize=0.7)\n",
    "image_shape = people.images[0].shape\n",
    "\n",
    "counts = np.bincount(people.target)\n",
    "for i, (count, name) in enumerate(zip(counts, people.target_names)):\n",
    "    print('{0:25} {1:3}'.format(name, count), end='  ')\n",
    "    if (i+1)%3 == 0:\n",
    "        print()"
   ]
  },
  {
   "cell_type": "code",
   "execution_count": null,
   "metadata": {},
   "outputs": [],
   "source": [
    "# 편중을 없애기 위해 사람마다 50개의 이미지만 선택\n",
    "mask = np.zeros(people.target.shape, dtype=np.bool)\n",
    "for target in np.unique(people.target):\n",
    "    mask[np.where(people.target == target)[0][:50]] = 1\n",
    "\n",
    "X_people = people.data[mask]\n",
    "y_people = people.target[mask]\n",
    "# 0~255 사이의 흑백 이미지의 픽셀 값을 0~1 스케일로 조정한다.\n",
    "X_people = X_people / 255."
   ]
  },
  {
   "cell_type": "code",
   "execution_count": null,
   "metadata": {},
   "outputs": [],
   "source": [
    "# KNN Classifier로 얼굴 분류하기\n",
    "\n",
    "from sklearn.neighbors import KNeighborsClassifier\n",
    "X_train, X_test, y_train, y_test = train_test_split(X_people, y_people, stratify=y_people, random_state=0)\n",
    "# 이웃 개수를 한 개로 하여 KNeighborsClassifier 모델을 만든다.\n",
    "knn = KNeighborsClassifier(n_neighbors=1)\n",
    "knn.fit(X_train, y_train)\n",
    "print('test score:{:.2f}'.format(knn.score(X_test, y_test)))"
   ]
  },
  {
   "cell_type": "code",
   "execution_count": null,
   "metadata": {},
   "outputs": [],
   "source": [
    "# pca 변환 후 다시 분류하기\n",
    "                           # 화이트닝: 주성분의 스케일이 같아지도록 조정  \n",
    "pca = PCA(n_components=100, whiten=True, random_state=0).fit(X_train)\n",
    "X_train_pca = pca.transform(X_train)\n",
    "X_test_pca = pca.transform(X_test)\n",
    "knn.fit(X_train_pca, y_train)\n",
    "knn.score(X_test_pca, y_test)"
   ]
  },
  {
   "cell_type": "code",
   "execution_count": null,
   "metadata": {},
   "outputs": [],
   "source": [
    "# 계산한 주성분 시각화하기\n",
    "\n",
    "fig, ax = plt.subplots(3,5, figsize=(15,12),\n",
    "                        subplot_kw={'xticks':(), 'yticks':()})\n",
    "for i, (component, ax) in enumerate(zip(pca.components_, ax.ravel())):\n",
    "    ax.imshow(component.reshape(image_shape), cmap='viridis')\n",
    "    ax.set_title('Component {}'.format((i+1)))"
   ]
  },
  {
   "cell_type": "code",
   "execution_count": null,
   "metadata": {},
   "outputs": [],
   "source": [
    "mglearn.plots.plot_pca_faces(X_train, X_test, image_shape)"
   ]
  },
  {
   "cell_type": "markdown",
   "metadata": {},
   "source": [
    "## 비음수 행렬 분해(NMF)"
   ]
  },
  {
   "cell_type": "code",
   "execution_count": null,
   "metadata": {},
   "outputs": [],
   "source": [
    "# 성분 15개 추출하기\n",
    "from sklearn.decomposition import NMF\n",
    "nmf = NMF(n_components=15, random_state=0)\n",
    "nmf.fit(X_train)\n",
    "X_train_nmf = nmf.transform(X_train)\n",
    "X_test_nmf = nmf.transform(X_test)\n",
    "\n",
    "fig, ax = plt.subplots(3,5, figsize=(15,12),\n",
    "                        subplot_kw={'xticks':(), 'yticks':()})\n",
    "for i, (component, ax) in enumerate(zip(nmf.components_, ax.ravel())):\n",
    "    ax.imshow(component.reshape(image_shape))\n",
    "    ax.set_title('component {}'.format(i))\n",
    "    \n"
   ]
  },
  {
   "cell_type": "code",
   "execution_count": null,
   "metadata": {},
   "outputs": [],
   "source": [
    "# 특정 성분이 강하게 나타난 이미지 확인하기\n",
    "compn = 3\n",
    "\n",
    "# 4번째 성분으로 정렬하여 처음 10개 이미지를 출력한다.\n",
    "inds = np.argsort(X_train_nmf[:, compn])[::-1]\n",
    "fig, ax = plt.subplots(2,5, figsize=(15,8),\n",
    "                        subplot_kw={'xticks':(), 'yticks':()})\n",
    "for i, (ind, ax) in enumerate(zip(inds, ax.ravel())):\n",
    "    ax.imshow(X_train[ind].reshape(image_shape))\n",
    "\n",
    "# 8번째 성분으로 정렬하여 처음 10개 이미지를 출력한다.\n",
    "compn = 7\n",
    "inds = np.argsort(X_train_nmf[:, compn])[::-1]\n",
    "fig, ax = plt.subplots(2,5, figsize=(15,8),\n",
    "                        subplot_kw={'xticks':(), 'yticks':()})\n",
    "for i, (ind, ax) in enumerate(zip(inds, ax.ravel())):\n",
    "    ax.imshow(X_train[ind].reshape(image_shape))"
   ]
  },
  {
   "cell_type": "markdown",
   "metadata": {},
   "source": [
    "## t_SNE(매니폴드 학습 알고리즘)"
   ]
  },
  {
   "cell_type": "code",
   "execution_count": null,
   "metadata": {},
   "outputs": [],
   "source": [
    "from sklearn.datasets import load_digits\n",
    "digits = load_digits()\n",
    "from sklearn.manifold import TSNE\n",
    "tsne = TSNE(random_state=42)\n",
    "# TSNE에는 transform 메서드가 없으므로 대신 fit_transform을 사용한다.\n",
    "digits_tsne = tsne.fit_transform(digits.data)\n",
    "\n",
    "plt.figure(figsize=(10,10))\n",
    "plt.xlim(digits_tsne[:,0].min(), digits_tsne[:,0].max()+1)\n",
    "plt.ylim(digits_tsne[:,1].min(), digits_tsne[:,1].max()+1)\n",
    "for i in range(len(digits.data)):\n",
    "    # 숫자 텍스트를 이용해 산점도 그리기\n",
    "    plt.text(digits_tsne[i,0], digits_tsne[i,1], str(digits.target[i]),\n",
    "             fontdict={'weight':'bold', 'size':9})\n",
    "plt.xlabel('t-SNE Feature 0')\n",
    "plt.ylabel('t-SNE Feature 1')"
   ]
  },
  {
   "cell_type": "markdown",
   "metadata": {},
   "source": [
    "# 군집(Clustering)"
   ]
  },
  {
   "cell_type": "markdown",
   "metadata": {},
   "source": [
    "### k-평균 군집(k-means Clustering)"
   ]
  },
  {
   "cell_type": "code",
   "execution_count": null,
   "metadata": {},
   "outputs": [],
   "source": [
    "from sklearn.datasets import make_blobs\n",
    "from sklearn.cluster import KMeans\n",
    "\n",
    "X, y = make_blobs(random_state=1)\n",
    "kmeans = KMeans(n_clusters=3)\n",
    "kmeans.fit(X)\n",
    "# KMeans로 만든 군집\n",
    "mglearn.discrete_scatter(X[:, 0], X[:, 1], kmeans.labels_, markers='o')\n",
    "mglearn.discrete_scatter(kmeans.cluster_centers_[:,0],\n",
    "kmeans.cluster_centers_[:,1], [0,1,2], markers='^', markeredgewidth=2)\n",
    "plt.show()"
   ]
  },
  {
   "cell_type": "code",
   "execution_count": null,
   "metadata": {},
   "outputs": [],
   "source": [
    "# 클러스터 수 바꾸기\n",
    "\n",
    "f, ax = plt.subplots(1,2, figsize=(10,5))\n",
    "kmeans = KMeans(n_clusters=2)\n",
    "kmeans.fit(X)\n",
    "assignments = kmeans.labels_\n",
    "mglearn.discrete_scatter(X[:,0], X[:,1], assignments, ax=ax[0])\n",
    "ax[0].set_title('cluster = 2')\n",
    "kmeans = KMeans(n_clusters=5)\n",
    "kmeans.fit(X)\n",
    "assignments = kmeans.labels_\n",
    "mglearn.discrete_scatter(X[:,0], X[:,1], assignments, ax=ax[1])\n",
    "ax[1].set_title('cluster = 5')"
   ]
  },
  {
   "cell_type": "markdown",
   "metadata": {},
   "source": [
    "### 병합 군집"
   ]
  },
  {
   "cell_type": "code",
   "execution_count": null,
   "metadata": {},
   "outputs": [],
   "source": [
    "from sklearn.cluster import AgglomerativeClustering\n",
    "agg = AgglomerativeClustering(n_clusters=3)\n",
    "assignment = agg.fit_predict(X_test)"
   ]
  },
  {
   "cell_type": "markdown",
   "metadata": {},
   "source": [
    "#### 덴드로그램 그리기"
   ]
  },
  {
   "cell_type": "code",
   "execution_count": null,
   "metadata": {},
   "outputs": [],
   "source": [
    "from scipy.cluster.hierarchy import dendrogram, ward\n",
    "from sklearn.datasets import make_blobs\n",
    "\n",
    "X,y = make_blobs(random_state=0, n_samples=12)\n",
    "'''데이터 배열 X에 ward 함수를 적용한다.\n",
    "Scipy의 ward 함수는 병합 군집을 수행할 때 생성된 거리 정보가 담긴 배열을 반환한다.'''\n",
    "linkage_array = ward(X)\n",
    "dendrogram(linkage_array)\n",
    "\n",
    "# 두 개와 세 개의 클러스터를 구분하는 커트라인을 표시한다.\n",
    "ax = plt.gca()\n",
    "bounds = ax.get_xbound()\n",
    "ax.plot(bounds, [7.25, 7.25], '--', c='k')\n",
    "ax.plot(bounds, [4,4], '--', c='k')\n",
    "\n",
    "ax.text(bounds[1], 7.25, 'two clusters', va='center', fontdict={'size':15})\n",
    "ax.text(bounds[1], 4, 'three clusters', va='center', fontdict={'size':15})\n",
    "plt.xlabel('sample num')\n",
    "plt.ylabel('cluster dis')"
   ]
  },
  {
   "cell_type": "markdown",
   "metadata": {},
   "source": [
    "### DBSCAN"
   ]
  },
  {
   "cell_type": "code",
   "execution_count": null,
   "metadata": {},
   "outputs": [],
   "source": [
    "from sklearn.cluster import DBSCAN\n",
    "from sklearn.preprocessing import StandardScaler\n",
    "dbscan = DBSCAN(min_samples=5, eps=0.5)"
   ]
  },
  {
   "cell_type": "markdown",
   "metadata": {},
   "source": [
    "### 군집 알고리즘의 평가와 비교"
   ]
  },
  {
   "cell_type": "markdown",
   "metadata": {},
   "source": [
    "#### 군집 알고리즘 평가하기"
   ]
  },
  {
   "cell_type": "markdown",
   "metadata": {},
   "source": [
    "##### 타깃값으로 평가하기"
   ]
  },
  {
   "cell_type": "code",
   "execution_count": null,
   "metadata": {},
   "outputs": [],
   "source": [
    "from sklearn.metrics.cluster import adjusted_rand_score\n",
    "from sklearn.datasets import make_moons\n",
    "from sklearn.preprocessing import StandardScaler\n",
    "from sklearn.cluster import KMeans\n",
    "from sklearn.cluster import AgglomerativeClustering\n",
    "from sklearn.cluster import DBSCAN\n",
    "X,y = make_moons(n_samples=200, noise=0.05, random_state=0)\n",
    "\n",
    "# 평균이 0, 분산이 1이 되도록 데이터의 스케일을 조정한다.\n",
    "scaler = StandardScaler()\n",
    "scaler.fit(X)\n",
    "X_scaled = scaler.transform(X)\n",
    "\n",
    "f,ax = plt.subplots(1,4, figsize=(15,3), subplot_kw={'xticks':(), 'yticks':()})\n",
    "\n",
    "# 비교를 위해 무작위로 클러스터를 할당한다.\n",
    "random_state = np.random.RandomState(seed=0)\n",
    "random_clusters = random_state.randint(low=0, high=2, size=len(X))\n",
    "ax[0].scatter(X_scaled[:,0], X_scaled[:,1], c=random_clusters,\n",
    "               cmap=mglearn.cm3, s=60, edgecolors='black')\n",
    "ax[0].set_title('Random allocation - ARI: {:.2f}'.format(adjusted_rand_score(y, random_clusters)))\n",
    "\n",
    "# 사용할 알고리즘 모델을 리스트로 만든다.\n",
    "algorithms = [KMeans(n_clusters=2), AgglomerativeClustering(n_clusters=2), DBSCAN()]\n",
    "for ax, algorithm in zip(ax[1:], algorithms):\n",
    "    clusters = algorithm.fit_predict(X_scaled)\n",
    "    ax.scatter(X_scaled[:,0], X_scaled[:,1], c=clusters,\n",
    "               cmap=mglearn.cm3, s=60, edgecolors='black')\n",
    "    ax.set_title('{} - ARI: {:.2f}'.format(algorithm.__class__.__name__,\n",
    "                                           adjusted_rand_score(y, clusters)))"
   ]
  },
  {
   "cell_type": "markdown",
   "metadata": {},
   "source": [
    "##### 타깃값 없이 평가하기"
   ]
  },
  {
   "cell_type": "code",
   "execution_count": null,
   "metadata": {},
   "outputs": [],
   "source": [
    "from sklearn.metrics.cluster import silhouette_score\n",
    "\n",
    "X,y = make_moons(n_samples=200, noise=0.05, random_state=0)\n",
    "\n",
    "scaler = StandardScaler()\n",
    "scaler.fit(X)\n",
    "X_scaled = scaler.transform(X)\n",
    "\n",
    "f,ax = plt.subplots(1,4, figsize=(15,3), subplot_kw={'xticks':(), 'yticks':()})\n",
    "\n",
    "# 비교를 위해 무작위로 클러스터를 할당한다.\n",
    "random_state = np.random.RandomState(seed=0)\n",
    "random_clusters = random_state.randint(low=0, high=2, size=len(X))\n",
    "ax[0].scatter(X_scaled[:,0], X_scaled[:,1], c=random_clusters,\n",
    "               cmap=mglearn.cm3, s=60, edgecolors='black')\n",
    "ax[0].set_title('Random allocation - sil: {:.2f}'.format(silhouette_score(X_scaled, random_clusters)))\n",
    "\n",
    "# 사용할 알고리즘 모델을 리스트로 만든다.\n",
    "algorithms = [KMeans(n_clusters=2), AgglomerativeClustering(n_clusters=2), DBSCAN()]\n",
    "for ax, algorithm in zip(ax[1:], algorithms):\n",
    "    clusters = algorithm.fit_predict(X_scaled)\n",
    "    ax.scatter(X_scaled[:,0], X_scaled[:,1], c=clusters,\n",
    "               cmap=mglearn.cm3, s=60, edgecolors='black')\n",
    "    ax.set_title('{} - sil: {:.2f}'.format(algorithm.__class__.__name__,\n",
    "                                           silhouette_score(X_scaled, clusters)))"
   ]
  },
  {
   "cell_type": "markdown",
   "metadata": {},
   "source": [
    "#### 군집 알고리즘 비교하기(얼굴 데이터셋 분석)"
   ]
  },
  {
   "cell_type": "code",
   "execution_count": null,
   "metadata": {},
   "outputs": [],
   "source": [
    "# LFW 데이터에서 고유얼굴을 찾은 다음 데이터를 변환한다.\n",
    "from sklearn.decomposition import PCA\n",
    "pca = PCA(n_components=100, whiten=True, random_state=0).fit(X_people)\n",
    "X_pca = pca.transform(X_people)"
   ]
  },
  {
   "cell_type": "markdown",
   "metadata": {},
   "source": [
    "##### DBSCAN"
   ]
  },
  {
   "cell_type": "code",
   "execution_count": null,
   "metadata": {},
   "outputs": [],
   "source": [
    "# 기본 매개변수로 DBSCAN을 적용한다.\n",
    "dbscan = DBSCAN()\n",
    "labels = dbscan.fit_predict(X_pca)\n",
    "print('labels: {}'.format(np.unique(labels))) # 모두 잡음 포인트로 레이블됨.\n",
    "\n",
    "dbscan = DBSCAN(min_samples=3, eps=15)\n",
    "labels = dbscan.fit_predict(X_pca)\n",
    "print('labels: {}'.format(np.unique(labels))) # parameter 변환으로 클러스터가 생김."
   ]
  },
  {
   "cell_type": "code",
   "execution_count": null,
   "metadata": {},
   "outputs": [],
   "source": [
    "'''잡음 포인트와 클러스터에 속한 포인트 수를 센다.  \n",
    "   bincount는 음수를 받을 수 없어서 labels에 1을 더한다.    \n",
    "   반환값의 첫 번쨰 원소는 잡음 포인트의 수이다.'''\n",
    "print('num of points per cluster:{}'.format(np.bincount(labels+1)))\n",
    "\n",
    "# 이상치 검출(outlier detection)\n",
    "noise = X_people[labels==-1]\n",
    "f,ax = plt.subplots(3,9, figsize=(12,4),\n",
    "                    subplot_kw={'xticks':(), 'yticks':()})\n",
    "for image, ax in zip(noise, ax.ravel()):\n",
    "    ax.imshow(image.reshape(image_shape), vmin=0, vmax=1)"
   ]
  },
  {
   "cell_type": "code",
   "execution_count": null,
   "metadata": {},
   "outputs": [],
   "source": [
    "# eps에 따른 클러스터의 수와 잡음 개수\n",
    "\n",
    "for eps in range(1,15,2):\n",
    "    print('\\neps={}'.format(eps))\n",
    "    dbscan=DBSCAN(eps=eps, min_samples=3)\n",
    "    labels = dbscan.fit_predict(X_pca)\n",
    "    print('num of clusters:{}'.format(len(np.unique(labels))))\n",
    "    print('size of clusters:{}'.format(np.bincount(labels+1)))"
   ]
  },
  {
   "cell_type": "code",
   "execution_count": null,
   "metadata": {},
   "outputs": [],
   "source": [
    "# eps=7 클러스터 시각화하기\n",
    "\n",
    "dbscan = DBSCAN(eps=7, min_samples=3)\n",
    "labels = dbscan.fit_predict(X_pca)\n",
    "\n",
    "for cluster in range(max(labels)+1):\n",
    "    mask = labels == cluster\n",
    "    n_images = np.sum(mask)\n",
    "    fig, ax = plt.subplots(1, n_images, figsize=(n_images*1.5, 4),\n",
    "                            subplot_kw={'xticks':(), 'yticks':()})\n",
    "    for image, label, ax in zip(X_people[mask], y_people[mask], ax):\n",
    "        ax.imshow(image.reshape(image_shape), vmin=0, vmax=1)\n",
    "        ax.set_title(people.target_names[label].split()[-1])"
   ]
  },
  {
   "cell_type": "markdown",
   "metadata": {},
   "source": [
    "##### KMeans"
   ]
  },
  {
   "cell_type": "code",
   "execution_count": null,
   "metadata": {},
   "outputs": [],
   "source": [
    "km = KMeans(n_clusters=10, random_state=0)\n",
    "labels_km = km.fit_predict(X_pca)\n",
    "print('size of clusters:{}'.format(np.bincount(labels_km)))"
   ]
  },
  {
   "cell_type": "code",
   "execution_count": null,
   "metadata": {},
   "outputs": [],
   "source": [
    "# KMeans(n_c=10)의 클러스터 중심\n",
    "\n",
    "f, ax = plt.subplots(2,5, figsize=(12,4), subplot_kw={'xticks':(), 'yticks':()})\n",
    "for center, ax in zip(km.cluster_centers_, ax.ravel()):\n",
    "    # center도 100개의 주성분을 특성으로 갖는다. 시각화를 위해 원본 특성 공간으로 되돌린다.\n",
    "    ax.imshow(pca.inverse_transform(center).reshape(image_shape), vmin=0, vmax=1)"
   ]
  },
  {
   "cell_type": "code",
   "execution_count": null,
   "metadata": {},
   "outputs": [],
   "source": [
    "mglearn.plots.plot_kmeans_faces(km, pca, X_pca, X_people, y_people, people.target_names)"
   ]
  },
  {
   "cell_type": "markdown",
   "metadata": {},
   "source": [
    "##### AgglomerativeClustering"
   ]
  },
  {
   "cell_type": "code",
   "execution_count": null,
   "metadata": {},
   "outputs": [],
   "source": [
    "agg = AgglomerativeClustering(n_clusters=10)\n",
    "labels_agg = agg.fit_predict(X_pca)\n",
    "print('size of clusters:{}'.format(np.bincount(label_agg)))\n",
    "\n",
    "# ARI로 KMeans와 Agg가 만든 클러스터가 비슷한지 확인하기\n",
    "print('ARI:{:.2f}'.format(adjusted_rand_score(labels_agg, labels_km)))"
   ]
  },
  {
   "cell_type": "code",
   "execution_count": null,
   "metadata": {},
   "outputs": [],
   "source": [
    "# 덴드로그램 그리기\n",
    "linkage_array = ward(X_pca)\n",
    "\n",
    "# 클러스터 사이의 거리가 담겨있는 linkage_array로 덴드로그램을 그린다.\n",
    "plt.figure(figsize=(20,5))\n",
    "# dendrogram 함수의 p 매개변수는 truncate_mode='level'일 때 트리의 최대 깊이를 지정한다.\n",
    "dendrogram(linkage_array, truncate_mode='level', p=7, no_labels=True)\n",
    "plt.xlabel('sample num')\n",
    "plt.ylabel('cluster dist')\n",
    "ax = plt.gca()\n",
    "bounds = ax.get_xbound()\n",
    "ax.plot(bounds, [36,36], '--', c='k')\n"
   ]
  },
  {
   "cell_type": "code",
   "execution_count": null,
   "metadata": {},
   "outputs": [],
   "source": [
    "# 그림으로 나타내기\n",
    "\n",
    "n_clusters = 10\n",
    "for cluster in range(n_clusters):\n",
    "    mask = labels_agg == cluster\n",
    "    fig, ax = plt.subplots(1,10, figsize=(15,8),\n",
    "                            subplot_kw={'xticks':(), 'yticks':()})\n",
    "    ax[0].set_ylabel(np.sum(mask))\n",
    "    for image, label, asdf, ax in zip(X_people[mask], y_people[mask],\n",
    "                                      labels_agg[mask], ax):\n",
    "        ax.imshow(image.reshape(image_shape), vmin=0, vmax=1)\n",
    "        ax.set_title(people.target_names[label].split()[-1],\n",
    "                    fontdict={'fontsize':9})\n"
   ]
  }
 ],
 "metadata": {
  "interpreter": {
   "hash": "0fa4360fac3e96b45dfbe1673664e4bea8b8cb4d6cd41c4e45be64e581f59653"
  },
  "kernelspec": {
   "display_name": "Python 3.9.7 64-bit ('base': conda)",
   "language": "python",
   "name": "python3"
  },
  "language_info": {
   "codemirror_mode": {
    "name": "ipython",
    "version": 3
   },
   "file_extension": ".py",
   "mimetype": "text/x-python",
   "name": "python",
   "nbconvert_exporter": "python",
   "pygments_lexer": "ipython3",
   "version": "3.9.7"
  },
  "orig_nbformat": 4
 },
 "nbformat": 4,
 "nbformat_minor": 2
}
