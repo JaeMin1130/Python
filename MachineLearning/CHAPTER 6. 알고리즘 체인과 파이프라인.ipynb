{
 "cells": [
  {
   "cell_type": "code",
   "execution_count": 1,
   "metadata": {},
   "outputs": [],
   "source": [
    "import numpy as np\n",
    "import pandas as pd\n",
    "import matplotlib.pyplot as plt\n",
    "import seaborn as sns\n",
    "plt.style.use('seaborn')\n",
    "sns.set(font_scale=1)\n",
    "\n",
    "import missingno as msno    # 누락값 표시\n",
    "import warnings\n",
    "import mglearn\n",
    "warnings.filterwarnings('ignore')  # 워닝 무시\n",
    "from sklearn.model_selection import train_test_split\n",
    "%matplotlib inline"
   ]
  },
  {
   "cell_type": "code",
   "execution_count": 2,
   "metadata": {},
   "outputs": [
    {
     "data": {
      "text/plain": [
       "0.972027972027972"
      ]
     },
     "execution_count": 2,
     "metadata": {},
     "output_type": "execute_result"
    }
   ],
   "source": [
    "from sklearn.svm import SVC\n",
    "from sklearn.datasets import load_breast_cancer\n",
    "from sklearn.model_selection import train_test_split\n",
    "from sklearn.preprocessing import MinMaxScaler\n",
    "\n",
    "cancer = load_breast_cancer()\n",
    "X_train, X_test, y_train, y_test = train_test_split(cancer.data, cancer.target, random_state=0)\n",
    "scaler = MinMaxScaler().fit(X_train)\n",
    "X_train_scaled = scaler.transform(X_train)\n",
    "X_test_scaled = scaler.transform(X_test)\n",
    "svm = SVC()\n",
    "svm.fit(X_train_scaled, y_train)\n",
    "svm.score(X_test_scaled, y_test)"
   ]
  },
  {
   "cell_type": "markdown",
   "metadata": {},
   "source": [
    "## 데이터 전처리와 매개변수 선택"
   ]
  },
  {
   "cell_type": "code",
   "execution_count": 3,
   "metadata": {},
   "outputs": [
    {
     "data": {
      "text/plain": [
       "{'mean_fit_time': array([0.01276484, 0.009972  , 0.01017075, 0.00957322, 0.00957351,\n",
       "        0.01376228, 0.01096935, 0.01097121, 0.01037135, 0.01057215,\n",
       "        0.0113699 , 0.01496077, 0.01077008, 0.00777903, 0.01276436,\n",
       "        0.00558238, 0.01157017, 0.01316385, 0.00917463, 0.0093729 ,\n",
       "        0.00558434, 0.00478411, 0.01276412, 0.01715226, 0.00897508,\n",
       "        0.00518556, 0.00339079, 0.00698371, 0.0149581 , 0.01495919,\n",
       "        0.00558472, 0.00358849, 0.00977259, 0.00857668, 0.01495929,\n",
       "        0.01456008]),\n",
       " 'std_fit_time': array([0.00239306, 0.00189225, 0.00230922, 0.0010174 , 0.00279342,\n",
       "        0.0068636 , 0.00209192, 0.00236012, 0.00232453, 0.00257128,\n",
       "        0.0014912 , 0.00315538, 0.00400906, 0.00074671, 0.00641454,\n",
       "        0.00205522, 0.00370869, 0.00203433, 0.00132384, 0.00149183,\n",
       "        0.00079684, 0.00171621, 0.00116416, 0.00171635, 0.003277  ,\n",
       "        0.00097866, 0.00048667, 0.0028213 , 0.00166736, 0.00199492,\n",
       "        0.00079745, 0.00048925, 0.00980142, 0.00597106, 0.01099834,\n",
       "        0.00205453]),\n",
       " 'mean_score_time': array([0.01017323, 0.01017537, 0.00738111, 0.00698276, 0.0067811 ,\n",
       "        0.00638375, 0.0043889 , 0.00558434, 0.00618401, 0.00578361,\n",
       "        0.00717998, 0.00837631, 0.0063838 , 0.00578408, 0.00578465,\n",
       "        0.00438886, 0.0071795 , 0.00578513, 0.00438914, 0.00837779,\n",
       "        0.0025928 , 0.003791  , 0.00538602, 0.01156898, 0.0047873 ,\n",
       "        0.00219445, 0.00219374, 0.00219331, 0.00578566, 0.00738029,\n",
       "        0.00319123, 0.00139713, 0.00219698, 0.00199442, 0.00478926,\n",
       "        0.00758057]),\n",
       " 'std_score_time': array([4.15434287e-03, 7.17766415e-03, 2.14921691e-03, 1.66883941e-03,\n",
       "        2.70589521e-03, 1.73669207e-03, 1.49401897e-03, 1.84955115e-03,\n",
       "        1.93318329e-03, 2.13008037e-03, 7.46621384e-04, 1.95357595e-03,\n",
       "        1.35313385e-03, 1.93396432e-03, 1.71616657e-03, 1.35316216e-03,\n",
       "        2.92118334e-03, 1.16371019e-03, 1.01703704e-03, 6.32713652e-03,\n",
       "        1.01651320e-03, 3.24103662e-03, 1.85003873e-03, 3.06467443e-03,\n",
       "        1.46602496e-03, 9.77128806e-04, 9.76203437e-04, 4.05039095e-04,\n",
       "        1.46714237e-03, 1.84905688e-03, 1.16343997e-03, 4.88519331e-04,\n",
       "        3.97606380e-04, 1.73505835e-06, 1.32384129e-03, 2.41062513e-03]),\n",
       " 'param_C': masked_array(data=[0.001, 0.001, 0.001, 0.001, 0.001, 0.001, 0.01, 0.01,\n",
       "                    0.01, 0.01, 0.01, 0.01, 0.1, 0.1, 0.1, 0.1, 0.1, 0.1,\n",
       "                    1, 1, 1, 1, 1, 1, 10, 10, 10, 10, 10, 10, 100, 100,\n",
       "                    100, 100, 100, 100],\n",
       "              mask=[False, False, False, False, False, False, False, False,\n",
       "                    False, False, False, False, False, False, False, False,\n",
       "                    False, False, False, False, False, False, False, False,\n",
       "                    False, False, False, False, False, False, False, False,\n",
       "                    False, False, False, False],\n",
       "        fill_value='?',\n",
       "             dtype=object),\n",
       " 'param_gamma': masked_array(data=[0.001, 0.01, 0.1, 1, 10, 100, 0.001, 0.01, 0.1, 1, 10,\n",
       "                    100, 0.001, 0.01, 0.1, 1, 10, 100, 0.001, 0.01, 0.1, 1,\n",
       "                    10, 100, 0.001, 0.01, 0.1, 1, 10, 100, 0.001, 0.01,\n",
       "                    0.1, 1, 10, 100],\n",
       "              mask=[False, False, False, False, False, False, False, False,\n",
       "                    False, False, False, False, False, False, False, False,\n",
       "                    False, False, False, False, False, False, False, False,\n",
       "                    False, False, False, False, False, False, False, False,\n",
       "                    False, False, False, False],\n",
       "        fill_value='?',\n",
       "             dtype=object),\n",
       " 'params': [{'C': 0.001, 'gamma': 0.001},\n",
       "  {'C': 0.001, 'gamma': 0.01},\n",
       "  {'C': 0.001, 'gamma': 0.1},\n",
       "  {'C': 0.001, 'gamma': 1},\n",
       "  {'C': 0.001, 'gamma': 10},\n",
       "  {'C': 0.001, 'gamma': 100},\n",
       "  {'C': 0.01, 'gamma': 0.001},\n",
       "  {'C': 0.01, 'gamma': 0.01},\n",
       "  {'C': 0.01, 'gamma': 0.1},\n",
       "  {'C': 0.01, 'gamma': 1},\n",
       "  {'C': 0.01, 'gamma': 10},\n",
       "  {'C': 0.01, 'gamma': 100},\n",
       "  {'C': 0.1, 'gamma': 0.001},\n",
       "  {'C': 0.1, 'gamma': 0.01},\n",
       "  {'C': 0.1, 'gamma': 0.1},\n",
       "  {'C': 0.1, 'gamma': 1},\n",
       "  {'C': 0.1, 'gamma': 10},\n",
       "  {'C': 0.1, 'gamma': 100},\n",
       "  {'C': 1, 'gamma': 0.001},\n",
       "  {'C': 1, 'gamma': 0.01},\n",
       "  {'C': 1, 'gamma': 0.1},\n",
       "  {'C': 1, 'gamma': 1},\n",
       "  {'C': 1, 'gamma': 10},\n",
       "  {'C': 1, 'gamma': 100},\n",
       "  {'C': 10, 'gamma': 0.001},\n",
       "  {'C': 10, 'gamma': 0.01},\n",
       "  {'C': 10, 'gamma': 0.1},\n",
       "  {'C': 10, 'gamma': 1},\n",
       "  {'C': 10, 'gamma': 10},\n",
       "  {'C': 10, 'gamma': 100},\n",
       "  {'C': 100, 'gamma': 0.001},\n",
       "  {'C': 100, 'gamma': 0.01},\n",
       "  {'C': 100, 'gamma': 0.1},\n",
       "  {'C': 100, 'gamma': 1},\n",
       "  {'C': 100, 'gamma': 10},\n",
       "  {'C': 100, 'gamma': 100}],\n",
       " 'split0_test_score': array([0.62790698, 0.62790698, 0.62790698, 0.62790698, 0.62790698,\n",
       "        0.62790698, 0.62790698, 0.62790698, 0.62790698, 0.62790698,\n",
       "        0.62790698, 0.62790698, 0.62790698, 0.62790698, 0.88372093,\n",
       "        0.89534884, 0.62790698, 0.62790698, 0.62790698, 0.88372093,\n",
       "        0.93023256, 0.97674419, 0.95348837, 0.62790698, 0.88372093,\n",
       "        0.94186047, 0.97674419, 1.        , 0.94186047, 0.62790698,\n",
       "        0.94186047, 0.96511628, 0.97674419, 0.97674419, 0.94186047,\n",
       "        0.62790698]),\n",
       " 'split1_test_score': array([0.63529412, 0.63529412, 0.63529412, 0.63529412, 0.63529412,\n",
       "        0.63529412, 0.63529412, 0.63529412, 0.63529412, 0.63529412,\n",
       "        0.63529412, 0.63529412, 0.63529412, 0.63529412, 0.89411765,\n",
       "        0.96470588, 0.63529412, 0.63529412, 0.63529412, 0.89411765,\n",
       "        0.97647059, 0.97647059, 0.92941176, 0.63529412, 0.89411765,\n",
       "        0.97647059, 0.97647059, 0.96470588, 0.91764706, 0.63529412,\n",
       "        0.97647059, 0.97647059, 0.97647059, 0.94117647, 0.91764706,\n",
       "        0.63529412]),\n",
       " 'split2_test_score': array([0.62352941, 0.62352941, 0.62352941, 0.62352941, 0.62352941,\n",
       "        0.62352941, 0.62352941, 0.62352941, 0.62352941, 0.62352941,\n",
       "        0.62352941, 0.62352941, 0.62352941, 0.62352941, 0.89411765,\n",
       "        0.94117647, 0.62352941, 0.62352941, 0.62352941, 0.89411765,\n",
       "        0.94117647, 0.95294118, 0.90588235, 0.62352941, 0.89411765,\n",
       "        0.94117647, 0.95294118, 0.95294118, 0.89411765, 0.62352941,\n",
       "        0.94117647, 0.95294118, 0.95294118, 0.91764706, 0.89411765,\n",
       "        0.62352941]),\n",
       " 'split3_test_score': array([0.62352941, 0.62352941, 0.62352941, 0.62352941, 0.62352941,\n",
       "        0.62352941, 0.62352941, 0.62352941, 0.62352941, 0.62352941,\n",
       "        0.62352941, 0.62352941, 0.62352941, 0.62352941, 0.90588235,\n",
       "        0.95294118, 0.63529412, 0.62352941, 0.62352941, 0.90588235,\n",
       "        0.96470588, 1.        , 0.95294118, 0.62352941, 0.90588235,\n",
       "        0.96470588, 0.98823529, 0.98823529, 0.94117647, 0.62352941,\n",
       "        0.96470588, 1.        , 1.        , 0.97647059, 0.94117647,\n",
       "        0.62352941]),\n",
       " 'split4_test_score': array([0.62352941, 0.62352941, 0.62352941, 0.62352941, 0.62352941,\n",
       "        0.62352941, 0.62352941, 0.62352941, 0.62352941, 0.62352941,\n",
       "        0.62352941, 0.62352941, 0.62352941, 0.62352941, 0.91764706,\n",
       "        0.97647059, 0.62352941, 0.62352941, 0.62352941, 0.91764706,\n",
       "        0.97647059, 1.        , 0.92941176, 0.62352941, 0.91764706,\n",
       "        0.97647059, 0.98823529, 1.        , 0.92941176, 0.62352941,\n",
       "        0.97647059, 0.98823529, 1.        , 0.95294118, 0.92941176,\n",
       "        0.62352941]),\n",
       " 'mean_test_score': array([0.62675787, 0.62675787, 0.62675787, 0.62675787, 0.62675787,\n",
       "        0.62675787, 0.62675787, 0.62675787, 0.62675787, 0.62675787,\n",
       "        0.62675787, 0.62675787, 0.62675787, 0.62675787, 0.89909713,\n",
       "        0.94612859, 0.62911081, 0.62675787, 0.62675787, 0.89909713,\n",
       "        0.95781122, 0.98123119, 0.93422709, 0.62675787, 0.89909713,\n",
       "        0.9601368 , 0.97652531, 0.98117647, 0.92484268, 0.62675787,\n",
       "        0.9601368 , 0.97655267, 0.98123119, 0.9529959 , 0.92484268,\n",
       "        0.62675787]),\n",
       " 'std_test_score': array([0.00459253, 0.00459253, 0.00459253, 0.00459253, 0.00459253,\n",
       "        0.00459253, 0.00459253, 0.00459253, 0.00459253, 0.00459253,\n",
       "        0.00459253, 0.00459253, 0.00459253, 0.00459253, 0.0116289 ,\n",
       "        0.0279831 , 0.00529566, 0.00459253, 0.00459253, 0.0116289 ,\n",
       "        0.0188742 , 0.01759351, 0.01772576, 0.00459253, 0.0116289 ,\n",
       "        0.01579861, 0.01288805, 0.01911538, 0.01773741, 0.00459253,\n",
       "        0.01579861, 0.01658048, 0.01759351, 0.02237983, 0.01773741,\n",
       "        0.00459253]),\n",
       " 'rank_test_score': array([18, 18, 18, 18, 18, 18, 18, 18, 18, 18, 18, 18, 18, 18, 14, 10, 17,\n",
       "        18, 18, 14,  8,  1, 11, 18, 14,  6,  5,  3, 12, 18,  6,  4,  1,  9,\n",
       "        12, 18])}"
      ]
     },
     "execution_count": 3,
     "metadata": {},
     "output_type": "execute_result"
    }
   ],
   "source": [
    "# 잘못된 코드의 예시\n",
    "from sklearn.model_selection import GridSearchCV\n",
    "\n",
    "param_grid = {'C': [0.001, 0.01, 0.1, 1, 10, 100],\n",
    "               'gamma': [0.001, 0.01, 0.1, 1, 10, 100]}\n",
    "grid = GridSearchCV(SVC(), param_grid=param_grid, cv=5)\n",
    "grid.fit(X_train_scaled, y_train)\n",
    "grid.cv_results_"
   ]
  },
  {
   "cell_type": "markdown",
   "metadata": {},
   "source": [
    "## 파이프라인 구축하기"
   ]
  },
  {
   "cell_type": "code",
   "execution_count": 4,
   "metadata": {},
   "outputs": [
    {
     "data": {
      "text/plain": [
       "0.972027972027972"
      ]
     },
     "execution_count": 4,
     "metadata": {},
     "output_type": "execute_result"
    }
   ],
   "source": [
    "from sklearn.pipeline import Pipeline\n",
    "pipe = Pipeline([('scaler', MinMaxScaler()), ('svm', SVC())])\n",
    "pipe.fit(X_train, y_train)\n",
    "pipe.score(X_test, y_test)"
   ]
  },
  {
   "cell_type": "markdown",
   "metadata": {},
   "source": [
    "## 그리드 서치에 파이프라인 적용하기"
   ]
  },
  {
   "cell_type": "code",
   "execution_count": 5,
   "metadata": {},
   "outputs": [
    {
     "data": {
      "text/plain": [
       "{'svm__C': 1, 'svm__gamma': 1}"
      ]
     },
     "execution_count": 5,
     "metadata": {},
     "output_type": "execute_result"
    }
   ],
   "source": [
    "# 어느 단계의 매개변수인지 같이 입력한다.\n",
    "\n",
    "param_grid = {'svm__C': [0.001, 0.01, 0.1, 1, 10, 100],\n",
    "                'svm__gamma': [0.001, 0.01, 0.1, 1, 10, 100]}\n",
    "grid = GridSearchCV(pipe, param_grid=param_grid, cv=5)\n",
    "grid.fit(X_train, y_train)\n",
    "grid.best_params_                "
   ]
  },
  {
   "cell_type": "markdown",
   "metadata": {},
   "source": [
    "## 파이프라인 인터페이스"
   ]
  },
  {
   "cell_type": "code",
   "execution_count": 6,
   "metadata": {},
   "outputs": [
    {
     "data": {
      "text/plain": [
       "0.9812311901504789"
      ]
     },
     "execution_count": 6,
     "metadata": {},
     "output_type": "execute_result"
    }
   ],
   "source": [
    "from sklearn.pipeline import make_pipeline\n",
    "pipe = make_pipeline(MinMaxScaler(), SVC(C=100))\n",
    "param_grid = {'svc__gamma': [0.001, 0.01, 0.1, 1, 10, 100]}\n",
    "grid = GridSearchCV(pipe, param_grid=param_grid, cv=5)\n",
    "grid.fit(X_train, y_train)\n",
    "grid.best_score_"
   ]
  },
  {
   "cell_type": "code",
   "execution_count": 7,
   "metadata": {},
   "outputs": [],
   "source": [
    "# 단계 속성에 접근하기\n",
    "from sklearn.preprocessing import StandardScaler\n",
    "from sklearn.decomposition import PCA\n",
    "pipe = make_pipeline(StandardScaler(), PCA(n_components=2), StandardScaler())\n",
    "pipe.fit(cancer.data)\n",
    "\n",
    "# 'pca' 단계의 두 개 주성분을 추출한다.\n",
    "components = pipe.named_steps['pca'].components_"
   ]
  },
  {
   "cell_type": "code",
   "execution_count": 8,
   "metadata": {},
   "outputs": [
    {
     "data": {
      "text/plain": [
       "array([[-0.43570655, -0.34266946, -0.40809443, -0.5344574 , -0.14971847,\n",
       "         0.61034122, -0.72634347, -0.78538827,  0.03886087,  0.27497198,\n",
       "        -1.29780109,  0.04926005, -0.67336941, -0.93447426, -0.13939555,\n",
       "         0.45032641, -0.13009864, -0.10144273,  0.43432027,  0.71596578,\n",
       "        -1.09068862, -1.09463976, -0.85183755, -1.06406198, -0.74316099,\n",
       "         0.07252425, -0.82323903, -0.65321239, -0.64379499, -0.42026013]])"
      ]
     },
     "execution_count": 8,
     "metadata": {},
     "output_type": "execute_result"
    }
   ],
   "source": [
    "# 그리드 서치 안의 파이프라인 속성에 접근하기\n",
    "from sklearn.linear_model import LogisticRegression\n",
    "pipe = make_pipeline(StandardScaler(), LogisticRegression())\n",
    "param_grid = {'logisticregression__C': [0.01, 0.1, 1, 10, 100]}\n",
    "grid = GridSearchCV(pipe, param_grid=param_grid, cv=5)\n",
    "\n",
    "X_train, X_test, y_train, y_test = train_test_split(cancer.data, cancer.target, random_state=4)\n",
    "grid.fit(X_train, y_train)\n",
    "# 파이프라인의 두 단계 중 LogisticRegression 단계의 최적의 모델 확인하기\n",
    "grid.best_estimator_.named_steps['logisticregression']\n",
    "grid.best_estimator_.named_steps['logisticregression'].coef_\n"
   ]
  },
  {
   "cell_type": "markdown",
   "metadata": {},
   "source": [
    "### 전처리와 모델의, 매개변수를 위한 그리드 서치"
   ]
  },
  {
   "cell_type": "code",
   "execution_count": 9,
   "metadata": {},
   "outputs": [
    {
     "data": {
      "text/plain": [
       "<matplotlib.collections.PolyCollection at 0x24ec5704280>"
      ]
     },
     "execution_count": 9,
     "metadata": {},
     "output_type": "execute_result"
    },
    {
     "data": {
      "image/png": "[encoded data removed]",
      "text/plain": [
       "<Figure size 432x288 with 1 Axes>"
      ]
     },
     "metadata": {
      "needs_background": "light"
     },
     "output_type": "display_data"
    }
   ],
   "source": [
    "from sklearn.datasets import load_boston\n",
    "boston = load_boston()\n",
    "X_train, X_test, y_train, y_test = train_test_split(boston.data, boston.target, random_state=0)\n",
    "from sklearn.linear_model import Ridge\n",
    "from sklearn.preprocessing import PolynomialFeatures\n",
    "pipe = make_pipeline(StandardScaler(), PolynomialFeatures(), Ridge())\n",
    "\n",
    "# 각 단계의 매개변수를 한 번에 그리드서치 하기\n",
    "param_grid = {'polynomialfeatures__degree': [1, 2, 3], 'ridge__alpha': [0.001, 0.01, 0.1, 1, 10, 100]}\n",
    "grid = GridSearchCV(pipe, param_grid=param_grid, cv=5)\n",
    "grid.fit(X_train, y_train)\n",
    "\n",
    "# 히트맵으로 나타내기\n",
    "mglearn.tools.heatmap(grid.cv_results_['mean_test_score'].reshape(3,-1),\n",
    "                      xlabel='ridge__alpha', ylabel='polynomialfeatures__degree',\n",
    "                      xticklabels=param_grid['ridge__alpha'],\n",
    "                      yticklabels=param_grid['polynomialfeatures__degree'], vmin=0)"
   ]
  },
  {
   "cell_type": "markdown",
   "metadata": {},
   "source": [
    "### 모델 선택을 위한 그리드 서치"
   ]
  },
  {
   "cell_type": "code",
   "execution_count": 15,
   "metadata": {},
   "outputs": [
    {
     "data": {
      "text/plain": [
       "{'classifier': SVC(C=10, gamma=0.01),\n",
       " 'classifier__C': 10,\n",
       " 'classifier__gamma': 0.01,\n",
       " 'preprocessing': StandardScaler()}"
      ]
     },
     "execution_count": 15,
     "metadata": {},
     "output_type": "execute_result"
    }
   ],
   "source": [
    "# RandomForestClassifier와 SVC 비교하기\n",
    "from sklearn.ensemble import RandomForestClassifier\n",
    "pipe = Pipeline([('preprocessing', StandardScaler()), ('classifier', SVC())])\n",
    "param_grid = [\n",
    "    {'classifier':[SVC()], 'preprocessing':[StandardScaler()],\n",
    "    'classifier__gamma': [0.01, 0.1, 1, 10, 100],\n",
    "    'classifier__C': [0.01, 0.1, 1, 10, 100]},\n",
    "    {'classifier':[RandomForestClassifier(n_estimators=100)],\n",
    "    'classifier__max_features': [1, 2, 3], 'preprocessing': [None]}]\n",
    "\n",
    "X_train, X_test, y_train, y_test = train_test_split(cancer.data, cancer.target, random_state=0)\n",
    "grid = GridSearchCV(pipe, param_grid=param_grid, cv=5)\n",
    "grid.fit(X_train, y_train)\n",
    "\n",
    "grid.best_params_\n"
   ]
  }
 ],
 "metadata": {
  "interpreter": {
   "hash": "0fa4360fac3e96b45dfbe1673664e4bea8b8cb4d6cd41c4e45be64e581f59653"
  },
  "kernelspec": {
   "display_name": "Python 3.9.7 ('base')",
   "language": "python",
   "name": "python3"
  },
  "language_info": {
   "codemirror_mode": {
    "name": "ipython",
    "version": 3
   },
   "file_extension": ".py",
   "mimetype": "text/x-python",
   "name": "python",
   "nbconvert_exporter": "python",
   "pygments_lexer": "ipython3",
   "version": "3.9.7"
  },
  "orig_nbformat": 4
 },
 "nbformat": 4,
 "nbformat_minor": 2
}
