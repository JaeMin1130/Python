{
 "cells": [
  {
   "attachments": {},
   "cell_type": "markdown",
   "metadata": {},
   "source": [
    "#### 문제<br/>\n",
    "루트 없는 트리가 주어진다. 이때, 트리의 루트를 1이라고 정했을 때, 각 노드의 부모를 구하는 프로그램을 작성하시오.\n",
    "\n",
    "#### 입력<br/>\n",
    "첫째 줄에 노드의 개수 N (2 ≤ N ≤ 100,000)이 주어진다. 둘째 줄부터 N-1개의 줄에 트리 상에서 연결된 두 정점이 주어진다.\n",
    "\n",
    "#### 출력<br/>\n",
    "첫째 줄부터 N-1개의 줄에 각 노드의 부모 노드 번호를 2번 노드부터 순서대로 출력한다."
   ]
  },
  {
   "cell_type": "code",
   "execution_count": 50,
   "metadata": {},
   "outputs": [
    {
     "name": "stdout",
     "output_type": "stream",
     "text": [
      "{1: [6, 4], 3: [6, 5], 2: [4], 4: [7]}\n"
     ]
    },
    {
     "ename": "NameError",
     "evalue": "name 'n' is not defined",
     "output_type": "error",
     "traceback": [
      "\u001b[1;31m---------------------------------------------------------------------------\u001b[0m",
      "\u001b[1;31mNameError\u001b[0m                                 Traceback (most recent call last)",
      "Cell \u001b[1;32mIn[50], line 14\u001b[0m\n\u001b[0;32m     12\u001b[0m \u001b[39mprint\u001b[39m(relation)\n\u001b[0;32m     13\u001b[0m parent \u001b[39m=\u001b[39m {}\n\u001b[1;32m---> 14\u001b[0m \u001b[39mif\u001b[39;00m(n \u001b[39min\u001b[39;00m relation\u001b[39m.\u001b[39mkeys()):\n\u001b[0;32m     15\u001b[0m     \u001b[39mfor\u001b[39;00m i \u001b[39min\u001b[39;00m relation[n]: \n\u001b[0;32m     16\u001b[0m         \u001b[39mif\u001b[39;00m i \u001b[39mnot\u001b[39;00m \u001b[39min\u001b[39;00m parent:\n",
      "\u001b[1;31mNameError\u001b[0m: name 'n' is not defined"
     ]
    }
   ],
   "source": [
    "N = int(input())\n",
    "relation = {}\n",
    "for i in range(0, N-1):\n",
    "    inputList = input().split()\n",
    "    inputList.sort()\n",
    "    first = int(inputList[0])\n",
    "    second = int(inputList[1])\n",
    "    if first not in relation.keys():\n",
    "        relation[first] = [second]\n",
    "    else: \n",
    "        relation[first].append(second)\n",
    "print(relation)\n",
    "parent = {}\n",
    "if(n in relation.keys()):\n",
    "    for i in relation[n]: \n",
    "        if i not in parent:\n",
    "            parent[i] = n\n",
    "for key, value in relation.items():\n",
    "    if(n in value and key not in parent):\n",
    "        parent[key] = n\n",
    "print(parent)\n",
    "# for i in range(2, N+1):\n",
    "#     print(parent[i])"
   ]
  }
 ],
 "metadata": {
  "kernelspec": {
   "display_name": "base",
   "language": "python",
   "name": "python3"
  },
  "language_info": {
   "codemirror_mode": {
    "name": "ipython",
    "version": 3
   },
   "file_extension": ".py",
   "mimetype": "text/x-python",
   "name": "python",
   "nbconvert_exporter": "python",
   "pygments_lexer": "ipython3",
   "version": "3.10.11"
  },
  "orig_nbformat": 4
 },
 "nbformat": 4,
 "nbformat_minor": 2
}
