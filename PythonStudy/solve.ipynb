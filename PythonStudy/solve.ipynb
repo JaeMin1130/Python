{
 "cells": [
  {
   "attachments": {},
   "cell_type": "markdown",
   "metadata": {},
   "source": [
    "#### 문제<br/>\n",
    "루트 없는 트리가 주어진다. 이때, 트리의 루트를 1이라고 정했을 때, 각 노드의 부모를 구하는 프로그램을 작성하시오.\n",
    "\n",
    "#### 입력<br/>\n",
    "첫째 줄에 노드의 개수 N (2 ≤ N ≤ 100,000)이 주어진다. 둘째 줄부터 N-1개의 줄에 트리 상에서 연결된 두 정점이 주어진다.\n",
    "\n",
    "#### 출력<br/>\n",
    "첫째 줄부터 N-1개의 줄에 각 노드의 부모 노드 번호를 2번 노드부터 순서대로 출력한다."
   ]
  },
  {
   "cell_type": "code",
   "execution_count": 56,
   "metadata": {},
   "outputs": [
    {
     "name": "stdout",
     "output_type": "stream",
     "text": [
      "{1: [6, 4], 6: [1, 3], 3: [6, 5], 5: [3], 4: [1, 2, 7], 2: [4], 7: [4]}\n"
     ]
    }
   ],
   "source": [
    "N = int(input())\n",
    "relation = {}\n",
    "for i in range(0, N-1):\n",
    "    inputList = input().split()\n",
    "    inputList.sort()\n",
    "    first = int(inputList[0])\n",
    "    second = int(inputList[1])\n",
    "    if first not in relation.keys():\n",
    "        relation[first] = [second]\n",
    "    else: \n",
    "        relation[first].append(second)\n",
    "    if second not in relation.keys():\n",
    "        relation[second] = [first]\n",
    "    else: \n",
    "        relation[second].append(first)\n",
    "print(relation)\n",
    "parent = {}\n",
    "\n",
    "while(len(parent) < N):\n",
    "    for i in relation[1]:\n",
    "        parent[i] = 1\n",
    "    for i in relation[relation[1][0]]:\n",
    "        parent[i] = relation[1][0]\n",
    "# for i in range(2, N+1):\n",
    "#     print(parent[i])"
   ]
  }
 ],
 "metadata": {
  "kernelspec": {
   "display_name": "base",
   "language": "python",
   "name": "python3"
  },
  "language_info": {
   "codemirror_mode": {
    "name": "ipython",
    "version": 3
   },
   "file_extension": ".py",
   "mimetype": "text/x-python",
   "name": "python",
   "nbconvert_exporter": "python",
   "pygments_lexer": "ipython3",
   "version": "3.10.11"
  },
  "orig_nbformat": 4
 },
 "nbformat": 4,
 "nbformat_minor": 2
}
