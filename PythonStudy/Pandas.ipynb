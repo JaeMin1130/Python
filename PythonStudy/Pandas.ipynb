{
 "cells": [
  {
   "cell_type": "code",
   "execution_count": 1,
   "metadata": {},
   "outputs": [
    {
     "name": "stderr",
     "output_type": "stream",
     "text": [
      "C:\\Users\\User\\AppData\\Local\\Temp\\ipykernel_3848\\1166656510.py:6: MatplotlibDeprecationWarning: The seaborn styles shipped by Matplotlib are deprecated since 3.6, as they no longer correspond to the styles shipped by seaborn. However, they will remain available as 'seaborn-v0_8-<style>'. Alternatively, directly use the seaborn API instead.\n",
      "  plt.style.use('seaborn')\n"
     ]
    }
   ],
   "source": [
    "import numpy as np\n",
    "import pandas as pd\n",
    "import matplotlib.pyplot as plt\n",
    "import seaborn as sns\n",
    "\n",
    "plt.style.use('seaborn')\n",
    "sns.set(font_scale=2.5)\n",
    "\n",
    "import missingno as msno    # 누락값 표시\n",
    "import warnings\n",
    "warnings.filterwarnings('ignore')  # dnjsld antl\n",
    "\n",
    "%matplotlib inline    \n",
    "# 새로운 창 안 뜨고 노트북에 바로 뜸"
   ]
  },
  {
   "cell_type": "code",
   "execution_count": 2,
   "metadata": {},
   "outputs": [],
   "source": [
    "data = pd.read_csv('./data/tips.csv')"
   ]
  },
  {
   "cell_type": "code",
   "execution_count": 8,
   "metadata": {},
   "outputs": [
    {
     "name": "stdout",
     "output_type": "stream",
     "text": [
      "column: total_bill\t Percent of NaN value: 0.00%\n",
      "column:        tip\t Percent of NaN value: 0.00%\n",
      "column:        sex\t Percent of NaN value: 0.00%\n",
      "column:     smoker\t Percent of NaN value: 0.00%\n",
      "column:        day\t Percent of NaN value: 0.00%\n",
      "column:       time\t Percent of NaN value: 0.00%\n",
      "column:       size\t Percent of NaN value: 0.00%\n"
     ]
    }
   ],
   "source": [
    "# null값 확인하기\n",
    "for col in data:\n",
    "    msg = 'column: {:>10}\\t Percent of NaN value: {:.2f}%'.format(col, 100*(data[col].isnull().sum() / data[col].shape[0]))\n",
    "    print(msg)"
   ]
  },
  {
   "cell_type": "code",
   "execution_count": 158,
   "metadata": {},
   "outputs": [
    {
     "data": {
      "image/png": "[encoded data removed]",
      "text/plain": [
       "<Figure size 500x300 with 1 Axes>"
      ]
     },
     "metadata": {},
     "output_type": "display_data"
    }
   ],
   "source": [
    "fig = plt.figure(figsize=(5, 3), )\n",
    "sns.countplot(x='sex', hue='smoker', data=data, saturation=1, width=0.5)\n",
    "plt.xlabel('sex', labelpad=0, fontdict={'family': 'serif', 'color': 'black', 'weight': 'bold', 'size': 14})\n",
    "plt.ylabel('count', labelpad=0, fontdict={'family': 'fantasy', 'color': 'black', 'weight': 'normal', 'size': 14})\n",
    "plt.legend(title='smoker', loc='upper left', fontsize=8, title_fontsize = 15)\n",
    "plt.rc('font', size=20)        # 기본 폰트 크기\n",
    "plt.rc('axes', labelsize=20)   # x,y축 label 폰트 크기\n",
    "plt.rc('xtick', labelsize=8)  # x축 눈금 폰트 크기 \n",
    "plt.rc('ytick', labelsize=8)  # y축 눈금 폰트 크기\n",
    "plt.rc('figure', titlesize=10) # figure title 폰트 크기"
   ]
  }
 ],
 "metadata": {
  "kernelspec": {
   "display_name": "base",
   "language": "python",
   "name": "python3"
  },
  "language_info": {
   "codemirror_mode": {
    "name": "ipython",
    "version": 3
   },
   "file_extension": ".py",
   "mimetype": "text/x-python",
   "name": "python",
   "nbconvert_exporter": "python",
   "pygments_lexer": "ipython3",
   "version": "3.10.11"
  },
  "orig_nbformat": 4
 },
 "nbformat": 4,
 "nbformat_minor": 2
}
