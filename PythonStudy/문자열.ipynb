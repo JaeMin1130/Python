{
 "cells": [
  {
   "attachments": {},
   "cell_type": "markdown",
   "metadata": {},
   "source": [
    "### 문자열"
   ]
  },
  {
   "attachments": {},
   "cell_type": "markdown",
   "metadata": {},
   "source": [
    "문자 'a'가 들어가는 단어를 키보드에서 입력 받아 첫 번째 줄에는 'a'까지의 문자열을 출력하고 두 번째 줄에는 나머지 문자열을 출력하는 프로그램을 작성하라."
   ]
  },
  {
   "cell_type": "code",
   "execution_count": null,
   "metadata": {},
   "outputs": [],
   "source": [
    "word = input(\"'a'가 들어가는 단어 : \")\n",
    "if \"a\" in word:\n",
    "    index = word.find('a')\n",
    "    print(word[:index + 1])\n",
    "    print(word[index + 1:])\n",
    "else:\n",
    "    print(\"'a'가 들어가지 않습니다.\")"
   ]
  },
  {
   "attachments": {},
   "cell_type": "markdown",
   "metadata": {},
   "source": [
    "1부터 1000까지의 숫자의 각 자리수의 합을 모두 구하라. 예를 들어 234 -> 2+3+4=9가 된다."
   ]
  },
  {
   "cell_type": "code",
   "execution_count": 74,
   "metadata": {},
   "outputs": [
    {
     "name": "stdout",
     "output_type": "stream",
     "text": [
      "13501\n"
     ]
    }
   ],
   "source": [
    "val = 0\n",
    "for i in range(1001):\n",
    "    for j in str(i):\n",
    "        val += int(j)\n",
    "print(val)"
   ]
  },
  {
   "attachments": {},
   "cell_type": "markdown",
   "metadata": {},
   "source": [
    "### List"
   ]
  },
  {
   "attachments": {},
   "cell_type": "markdown",
   "metadata": {},
   "source": [
    "for 루프를 이용하여 다음과 같은 리스트를 생성하라.\n",
    "- 0~49까지의 수로 구성되는 리스트\n",
    "- 1~50까지 수의 제곱으로 구성되는 리스트"
   ]
  },
  {
   "cell_type": "code",
   "execution_count": null,
   "metadata": {},
   "outputs": [],
   "source": [
    "result1 = []\n",
    "result2 = []\n",
    "for i in range(50):\n",
    "    result1.append(i)\n",
    "for i in range(1, 51):\n",
    "    result2.append(i ** 2)\n",
    "print(result1)\n",
    "print(result2)"
   ]
  },
  {
   "attachments": {},
   "cell_type": "markdown",
   "metadata": {},
   "source": [
    "크기가 같은 두 개의 리스트 L, M을 생성하고 두 리스트의 각 요소 합으로 구성되는 새로운 리스트를 생성하라.<br/> \n",
    "예를 들어 L=[1,2,3]이고 M=[4,5,6]이면 [5,7,9]인 리스트 생성"
   ]
  },
  {
   "cell_type": "code",
   "execution_count": null,
   "metadata": {},
   "outputs": [],
   "source": [
    "import random\n",
    "L = []\n",
    "M = []\n",
    "result = []\n",
    "for i in range(10):\n",
    "    L.append(random.randint(1, 10))\n",
    "    M.append(random.randint(1, 10))\n",
    "    result.append(L[i] + M[i])\n",
    "print(f\"L : {L}\")\n",
    "print(f\"M : {M}\")\n",
    "print(f\"result : {result}\")"
   ]
  },
  {
   "attachments": {},
   "cell_type": "markdown",
   "metadata": {},
   "source": [
    "사용자로부터 5개의 숫자를 문자열로 입력 받아 각 숫자를 +로 연결한 문자열을 생성하라.<br/>\n",
    " 예를 들어 2, 5, 11, 33, 55를 입력하면 '2+5+11+33+55'를 생성하라."
   ]
  },
  {
   "cell_type": "code",
   "execution_count": null,
   "metadata": {},
   "outputs": [],
   "source": [
    "string = \"\"\n",
    "for i in range(5):\n",
    "    string += input() + \"+\"\n",
    "print(string.rstrip(\"+\"))"
   ]
  },
  {
   "attachments": {},
   "cell_type": "markdown",
   "metadata": {},
   "source": [
    "### Tuple"
   ]
  },
  {
   "cell_type": "code",
   "execution_count": null,
   "metadata": {},
   "outputs": [],
   "source": []
  },
  {
   "cell_type": "code",
   "execution_count": null,
   "metadata": {},
   "outputs": [],
   "source": []
  },
  {
   "attachments": {},
   "cell_type": "markdown",
   "metadata": {},
   "source": [
    "### Dictionary"
   ]
  },
  {
   "attachments": {},
   "cell_type": "markdown",
   "metadata": {},
   "source": [
    "다음 딕셔너리에 대해 물음에 답하라.\n",
    "- 사용자가 월을 입력하면 해당 월에 일수를 출력하라.\n",
    "- 알파벳 순서로 모든 월을 출력하라.\n",
    "- 일수가 31인 월을 모두 출력하라.\n",
    "- 월의 일수를 기준으로 오름차순으로 (key-value) 쌍을 출력하라.\n",
    "- 사용자가 월을 3자리만 입력하면 월의 일수를 출력하라.(Jan, Feb 등)\n"
   ]
  },
  {
   "cell_type": "code",
   "execution_count": null,
   "metadata": {},
   "outputs": [],
   "source": [
    "days = {'January':31, 'February':28, 'March':31, 'April':30,\n",
    "        'May':31, 'June':30, 'July':31, 'August':31,\n",
    "        'September':30, 'October':31, 'November':30, 'December':31} \n",
    "month = int(input(\"월 입력(1 ~ 12)\")) - 1\n",
    "print(f\"{month + 1}월은 {days[list(days.keys())[month]]}일까지입니다.\")"
   ]
  },
  {
   "attachments": {},
   "cell_type": "markdown",
   "metadata": {},
   "source": [
    "다음 딕셔너리에 대해 물음에 답하라.\n",
    "- 전화번호가 8로 끝나는 사용자 이름을 출력하라\n",
    "- 이메일이 없는 사용자 이름을 출력하라\n",
    "- 사용자 이름을 입력하면 전화번호, 이메일을 출력하라. 이름이 없으면 '이름이 없습니다'라는 메시지를 출력하라\n"
   ]
  },
  {
   "cell_type": "code",
   "execution_count": null,
   "metadata": {},
   "outputs": [],
   "source": [
    "import re\n",
    "d=[{'name':'Todd', 'phone':'555-1414', 'email':'todd@mail.net'},\n",
    "{'name':'Helga', 'phone':'555-1618', 'email':'helga@mail.net'},\n",
    "{'name':'Princess', 'phone':'555-3141', 'email':''},\n",
    "{'name':'LJ', 'phone':'555-2718', 'email':'lj@mail.net'}]\n",
    "\n",
    "for i in d:\n",
    "    if re.search('[8$]', i['phone']):\n",
    "        print(f\"전화번호가 8로 끝나는 사용자의 이름 : {i['name']}\")\n",
    "\n",
    "for i in d:\n",
    "    if i[\"email\"] == \"\":\n",
    "        print(f\"이메일이 없는 사용자의 이름 : {i['name']}\")\n",
    "\n",
    "nameList = []\n",
    "for i in d:\n",
    "    nameList.append(i['name'].casefold())\n",
    "userName = input(\"이름 : \").casefold()\n",
    "if(userName not in nameList):\n",
    "    print(\"이름이 없습니다.\")\n",
    "else:\n",
    "    for i in d:\n",
    "        if(i['name'].casefold() == userName):\n",
    "            print(f\"전화번호 : {i['phone']}, 이메일 : {i['email']}\")\n"
   ]
  },
  {
   "attachments": {},
   "cell_type": "markdown",
   "metadata": {},
   "source": [
    "학생들의 성적을 딕셔너리로 저장하고, 성적 평균을 계산하는 프로그램을 작성해보세요."
   ]
  },
  {
   "cell_type": "code",
   "execution_count": 77,
   "metadata": {},
   "outputs": [
    {
     "name": "stdout",
     "output_type": "stream",
     "text": [
      "Alice : 90.0\n",
      "Bob : 80.0\n",
      "Charlie : 95.0\n"
     ]
    }
   ],
   "source": [
    "score = {\"Alice\": [85, 90, 95], \"Bob\": [75, 80, 85], \"Charlie\": [95, 95, 95]}\n",
    "for name, scores in score.items():\n",
    "    print(f\"{name} : {sum(scores) / len(scores)}\")"
   ]
  },
  {
   "attachments": {},
   "cell_type": "markdown",
   "metadata": {},
   "source": [
    "주어진 문자열에서 각 알파벳의 빈도수를 구하는 프로그램을 작성하시오."
   ]
  },
  {
   "cell_type": "code",
   "execution_count": 79,
   "metadata": {},
   "outputs": [
    {
     "name": "stdout",
     "output_type": "stream",
     "text": [
      "{'H': 1, 'e': 1, 'l': 3, 'o': 2, ',': 1, ' ': 1, 'w': 1, 'r': 1, 'd': 1, '!': 1}\n"
     ]
    }
   ],
   "source": [
    "text = \"Hello, world!\"\n",
    "result = {}\n",
    "for i in text:\n",
    "    if i not in result.keys():\n",
    "        result[i] = 1\n",
    "    else:\n",
    "        result[i] += 1\n",
    "print(result)"
   ]
  },
  {
   "attachments": {},
   "cell_type": "markdown",
   "metadata": {},
   "source": [
    "### Set"
   ]
  },
  {
   "attachments": {},
   "cell_type": "markdown",
   "metadata": {},
   "source": [
    "1부터 45까지의 수 중에서 6개를 선택하여 로또 번호를 만드는 프로그램\n"
   ]
  },
  {
   "cell_type": "code",
   "execution_count": null,
   "metadata": {},
   "outputs": [],
   "source": [
    "import random\n",
    "pick = set()\n",
    "\n",
    "while(len(pick) < 6):\n",
    "    n = random.randint(1, 45)\n",
    "    pick.add(n)\n",
    "\n",
    "print(sorted(pick))"
   ]
  },
  {
   "attachments": {},
   "cell_type": "markdown",
   "metadata": {},
   "source": [
    "숫자들이 들어있는 리스트에서 중복된 숫자를 제거하고, 남은 숫자들의 합을 계산하는 프로그램을 작성해보세요.\n"
   ]
  },
  {
   "cell_type": "code",
   "execution_count": 78,
   "metadata": {},
   "outputs": [
    {
     "name": "stdout",
     "output_type": "stream",
     "text": [
      "15\n"
     ]
    }
   ],
   "source": [
    "arr = [1, 2, 2, 3, 3, 3, 4, 4, 5]\n",
    "val = 0\n",
    "for i in set(arr):\n",
    "    val += i\n",
    "print(val)"
   ]
  },
  {
   "attachments": {},
   "cell_type": "markdown",
   "metadata": {},
   "source": [
    "두 개의 리스트가 주어졌을 때, 두 리스트에 공통으로 포함된 요소를 모두 담은 리스트를 반환하는 프로그램을 작성하시오"
   ]
  },
  {
   "cell_type": "code",
   "execution_count": 80,
   "metadata": {},
   "outputs": [
    {
     "name": "stdout",
     "output_type": "stream",
     "text": [
      "{2, 4}\n"
     ]
    }
   ],
   "source": [
    "list1 = [1, 2, 3, 4, 5]\n",
    "list2 = [2, 4, 6, 8, 10]\n",
    "\n",
    "print(set(list1) & set(list2))"
   ]
  }
 ],
 "metadata": {
  "kernelspec": {
   "display_name": "base",
   "language": "python",
   "name": "python3"
  },
  "language_info": {
   "codemirror_mode": {
    "name": "ipython",
    "version": 3
   },
   "file_extension": ".py",
   "mimetype": "text/x-python",
   "name": "python",
   "nbconvert_exporter": "python",
   "pygments_lexer": "ipython3",
   "version": "3.10.11"
  },
  "orig_nbformat": 4
 },
 "nbformat": 4,
 "nbformat_minor": 2
}
