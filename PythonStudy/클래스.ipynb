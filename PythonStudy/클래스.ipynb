{
 "cells": [
  {
   "attachments": {},
   "cell_type": "markdown",
   "metadata": {},
   "source": [
    "Deposit 클래스를 생성하라. 이 클래스는 세 개의 인스턴스 변수 initial과 interest, n을 갖는다.<br/> initial은 원금을 의미하고 interest는 년 이자율을 나타낸다.<br/>\n",
    "초기화 함수에서 세 개의 인스턴스 변수를 전달 받은 값으로 설정해야 한다.<br/>\n",
    "클래스 메소드 profit()은 n년 후 원리금을 반환한다. n년 후 원리금은 initial \\* (1 + interest)n이다.<br/>Deposit 클래스를 이용하여 100만원을 이율 3.5%로 7년간 저축했을 때 원리금을 구하는 프로그램을 작성하라.<br/> 단 원리금은 정수로 표시되어야 한다.\n"
   ]
  },
  {
   "cell_type": "code",
   "execution_count": 30,
   "metadata": {},
   "outputs": [
    {
     "name": "stdout",
     "output_type": "stream",
     "text": [
      "1,272,279원\n"
     ]
    }
   ],
   "source": [
    "class Deposit:\n",
    "    def __init__(self, initial, interest, n):\n",
    "        self.initial = initial\n",
    "        self.interest = interest\n",
    "        self.n = n\n",
    "\n",
    "    def profit(self):\n",
    "        return (1 + self.interest) ** self.n * self.initial\n",
    "        # 543\n",
    "\n",
    "\n",
    "d = Deposit(1000000, 0.035, 7)\n",
    "print(f\"{d.profit():,.0f}원\")"
   ]
  },
  {
   "attachments": {},
   "cell_type": "markdown",
   "metadata": {},
   "source": [
    "예제의 Teacher 클래스에서 People 클래스의 **init**()를 호출하지 않고 부모 클래스의 age, name 인스턴스 변수를 이용할 수 있는가?<br/> 이용할 수 없다면 그 이유는? 이용할 수 있게 하려면 프로그램을 어떻게 수정해야 하는가?\n"
   ]
  },
  {
   "cell_type": "code",
   "execution_count": 54,
   "metadata": {},
   "outputs": [
    {
     "name": "stdout",
     "output_type": "stream",
     "text": [
      "Name : Iru age : 4\n"
     ]
    },
    {
     "ename": "AttributeError",
     "evalue": "'Teacher' object has no attribute '_People__name'",
     "output_type": "error",
     "traceback": [
      "\u001b[1;31m---------------------------------------------------------------------------\u001b[0m",
      "\u001b[1;31mAttributeError\u001b[0m                            Traceback (most recent call last)",
      "Cell \u001b[1;32mIn[54], line 31\u001b[0m\n\u001b[0;32m     29\u001b[0m p\u001b[39m.\u001b[39mintroMe()\n\u001b[0;32m     30\u001b[0m t \u001b[39m=\u001b[39m Teacher(\u001b[39m4\u001b[39m, \u001b[39m\"\u001b[39m\u001b[39mIru\u001b[39m\u001b[39m\"\u001b[39m, \u001b[39m\"\u001b[39m\u001b[39mUFL\u001b[39m\u001b[39m\"\u001b[39m)\n\u001b[1;32m---> 31\u001b[0m t\u001b[39m.\u001b[39;49mshowSchool()\n",
      "Cell \u001b[1;32mIn[54], line 25\u001b[0m, in \u001b[0;36mTeacher.showSchool\u001b[1;34m(self)\u001b[0m\n\u001b[0;32m     24\u001b[0m \u001b[39mdef\u001b[39;00m \u001b[39mshowSchool\u001b[39m(\u001b[39mself\u001b[39m):\n\u001b[1;32m---> 25\u001b[0m     \u001b[39msuper\u001b[39;49m()\u001b[39m.\u001b[39;49mintroMe()\n\u001b[0;32m     26\u001b[0m     \u001b[39mprint\u001b[39m(\u001b[39m\"\u001b[39m\u001b[39mMy School is \u001b[39m\u001b[39m\"\u001b[39m, \u001b[39mself\u001b[39m\u001b[39m.\u001b[39mschool)\n",
      "Cell \u001b[1;32mIn[54], line 7\u001b[0m, in \u001b[0;36mPeople.introMe\u001b[1;34m(self)\u001b[0m\n\u001b[0;32m      6\u001b[0m \u001b[39mdef\u001b[39;00m \u001b[39mintroMe\u001b[39m(\u001b[39mself\u001b[39m):\n\u001b[1;32m----> 7\u001b[0m     \u001b[39mprint\u001b[39m(\u001b[39m\"\u001b[39m\u001b[39mName :\u001b[39m\u001b[39m\"\u001b[39m, \u001b[39mself\u001b[39;49m\u001b[39m.\u001b[39;49mgetName(), \u001b[39m\"\u001b[39m\u001b[39mage :\u001b[39m\u001b[39m\"\u001b[39m, \u001b[39mself\u001b[39m\u001b[39m.\u001b[39mgetAge())\n",
      "Cell \u001b[1;32mIn[54], line 10\u001b[0m, in \u001b[0;36mPeople.getName\u001b[1;34m(self)\u001b[0m\n\u001b[0;32m      9\u001b[0m \u001b[39mdef\u001b[39;00m \u001b[39mgetName\u001b[39m(\u001b[39mself\u001b[39m):\n\u001b[1;32m---> 10\u001b[0m     \u001b[39mreturn\u001b[39;00m \u001b[39mself\u001b[39;49m\u001b[39m.\u001b[39;49m__name\n",
      "\u001b[1;31mAttributeError\u001b[0m: 'Teacher' object has no attribute '_People__name'"
     ]
    }
   ],
   "source": [
    "class People:\n",
    "    def __init__(self, age=0, name=None):\n",
    "        self.__age = age\n",
    "        self.__name = name\n",
    "\n",
    "    def introMe(self):\n",
    "        print(\"Name :\", self.getName(), \"age :\", self.getAge())\n",
    "\n",
    "    def getName(self):\n",
    "        return self.__name\n",
    "\n",
    "    def setName(self, name):\n",
    "        self.__name = name\n",
    "\n",
    "    def getAge(self):\n",
    "        return self.__age\n",
    "\n",
    "    def setAge(self, age):\n",
    "        self.__age = age\n",
    "\n",
    "\n",
    "class Teacher(People):\n",
    "    def __init__(self, age=0, name=None, school=None):\n",
    "        self.name = super().getName\n",
    "        self.age = super().getAge\n",
    "        self.school = school\n",
    "\n",
    "    def showSchool(self):\n",
    "        super().introMe()\n",
    "        print(\"My School is \", self.school)\n",
    "\n",
    "\n",
    "p = People(4, \"Iru\")\n",
    "p.introMe()\n",
    "t = Teacher(4, \"Iru\", \"UFL\")\n",
    "t.showSchool()"
   ]
  },
  {
   "attachments": {},
   "cell_type": "markdown",
   "metadata": {},
   "source": [
    "다음 Person 클래스를 상속 받는 Employee 클래스를 정의하라. <br/>Employee 클래스에 employeeID 인스턴스 변수를 추가하고 getID() 메소드를 정의하라.<br/> getID() 메소드는 employeeID를 반환하는 메소드이다.<br/>\n",
    "Employee 클래스를 이용하여 Employee(\"동양\", 65, 2019)로 생성된 객체의 이름, 나이, ID를 출력하라.\n"
   ]
  },
  {
   "cell_type": "code",
   "execution_count": 49,
   "metadata": {},
   "outputs": [
    {
     "name": "stdout",
     "output_type": "stream",
     "text": [
      "Iru 4 ija06598\n"
     ]
    }
   ],
   "source": [
    "class Person:\n",
    "    def __init__(self, name, age):\n",
    "        self.name = name\n",
    "        self.age = age\n",
    "\n",
    "    def getName(self):\n",
    "        return self.name\n",
    "\n",
    "    def getAge(self):\n",
    "        return self.age\n",
    "\n",
    "class Employee(Person):\n",
    "    def __init__(self, name, age, employeeID):\n",
    "        super().__init__(name, age)\n",
    "        self.employeeID = employeeID\n",
    "\n",
    "    def getID(self):\n",
    "        return self.employeeID\n",
    "\n",
    "    def show(self):\n",
    "        print(self.getName(), self.getAge(), self.getID())\n",
    "\n",
    "\n",
    "e = Employee(\"Iru\", 4, \"ija06598\")\n",
    "e.show()"
   ]
  },
  {
   "attachments": {},
   "cell_type": "markdown",
   "metadata": {},
   "source": [
    "문제: 학생 정보를 관리하는 프로그램을 만드세요.<br/>\n",
    "학생(Student) 클래스<br/>\n",
    "인스턴스 변수<br/>\n",
    "이름(name), 학번(student_id), 학년(year), 전공(major), 평균 성적(avg_score)<br/>\n",
    "메서드<br/>\n",
    "get_info() - 학생의 정보를 문자열로 반환<br/>\n",
    "\n",
    "학생들을 관리하는 클래스(StudentManager)<br/>\n",
    "인스턴스 변수 <br/>\n",
    "학생들(student_list)<br/>\n",
    "메서드:<br/>\n",
    "add_student(student): 학생을 리스트에 추가하는 메서드<br/>\n",
    "remove_student(student_id): 학번을 이용해 학생을 리스트에서 제거하는 메서드<br/>\n",
    "find_student(student_id): 학번을 이용해 학생을 찾는 메서드<br/>\n",
    "show_all_students(): 모든 학생의 정보를 출력하는 메서드\n"
   ]
  },
  {
   "cell_type": "code",
   "execution_count": 10,
   "metadata": {},
   "outputs": [
    {
     "name": "stdout",
     "output_type": "stream",
     "text": [
      "Iru3 201806154 2018 psychology B3\n",
      "Iru1 201606154 2016 psychology B1\n",
      "Iru3 201806154 2018 psychology B3\n"
     ]
    }
   ],
   "source": [
    "class Student:\n",
    "    def __init__(self, name, student_id, year, major, avg_score):\n",
    "        self.name = name\n",
    "        self.student_id = student_id\n",
    "        self.year = year\n",
    "        self.major = major\n",
    "        self.avg_score = avg_score\n",
    "    def get_info(self):\n",
    "        print(self.name, self.student_id, self.year, self.major, self.avg_score) \n",
    "    \n",
    "class StudentManager:\n",
    "    def __init__(self, student_list):\n",
    "        self.student_list = student_list\n",
    "\n",
    "    def add_student(self, student):\n",
    "        self.student_list.append(student)\n",
    "        \n",
    "    def remove_student(self, student_id):\n",
    "        for i in self.student_list:\n",
    "            if(i.student_id == student_id):\n",
    "                self.student_list.remove(i)\n",
    "\n",
    "    def find_student(self, student_id):\n",
    "        for i in self.student_list:\n",
    "            if(i.student_id == student_id):\n",
    "                return i.get_info()\n",
    "                \n",
    "    def show_all_students(self):\n",
    "        for i in self.student_list:\n",
    "            i.get_info()\n",
    "\n",
    "student_list = []\n",
    "SM = StudentManager(student_list)\n",
    "s1 = Student(\"Iru1\", 201606154, 2016, \"psychology\", \"B1\")\n",
    "s2 = Student(\"Iru2\", 201706154, 2017, \"psychology\", \"B2\")\n",
    "s3 = Student(\"Iru3\", 201806154, 2018, \"psychology\", \"B3\")\n",
    "SM.add_student(s1)\n",
    "SM.add_student(s2)\n",
    "SM.add_student(s3)\n",
    "SM.remove_student(s2.student_id)\n",
    "SM.find_student(s3.student_id)\n",
    "SM.show_all_students()"
   ]
  }
 ],
 "metadata": {
  "kernelspec": {
   "display_name": "base",
   "language": "python",
   "name": "python3"
  },
  "language_info": {
   "codemirror_mode": {
    "name": "ipython",
    "version": 3
   },
   "file_extension": ".py",
   "mimetype": "text/x-python",
   "name": "python",
   "nbconvert_exporter": "python",
   "pygments_lexer": "ipython3",
   "version": "3.10.11"
  },
  "orig_nbformat": 4
 },
 "nbformat": 4,
 "nbformat_minor": 2
}
