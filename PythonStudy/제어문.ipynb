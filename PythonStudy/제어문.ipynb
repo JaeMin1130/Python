{
 "cells": [
  {
   "attachments": {},
   "cell_type": "markdown",
   "metadata": {},
   "source": [
    "## if"
   ]
  },
  {
   "attachments": {},
   "cell_type": "markdown",
   "metadata": {},
   "source": [
    "사용자로부터 국어, 영어, 수학 세 과목의 성적을 입력받아, 각 과목의 평균 점수와 총 평균 점수를 계산한 후, 학점을 출력하는 프로그램을 작성하세요.<br/>\n",
    "평균 점수는 소수점 둘째자리까지 출력합니다.<br/>\n",
    "총 평균 점수는 국어: 40%, 영어: 40%, 수학: 20%로 가중치를 부여하여 계산합니다.<br/>\n",
    "총 평균 점수가 90점 이상인 경우 \"A\", 80점 이상인 경우 \"B\", 70점 이상인 경우 \"C\", 60점 이상인 경우 \"D\", 60점 미만인 경우 \"F\"를 출력합니다.\n"
   ]
  },
  {
   "cell_type": "code",
   "execution_count": 9,
   "metadata": {},
   "outputs": [
    {
     "name": "stdout",
     "output_type": "stream",
     "text": [
      "세 과목 평균 점수 : 72.00\n",
      "학점 : C\n"
     ]
    }
   ],
   "source": [
    "Korean = int(input(\"국어 점수 : \"))\n",
    "English = int(input(\"영어 점수 : \"))\n",
    "Math = int(input(\"수학 점수 : \"))\n",
    "avg = (Korean*0.4 + English*0.4 + Math*0.2)\n",
    "grade = \"A\" if avg >= 90 else (\"B\" if avg >= 80 else (\"C\" if avg >= 70 else (\"D\" if avg >= 60 else \"F\")))\n",
    "print(f\"세 과목 평균 점수 : {avg:.2f}\")\n",
    "print(f\"학점 : {grade}\")"
   ]
  },
  {
   "attachments": {},
   "cell_type": "markdown",
   "metadata": {},
   "source": [
    "사용자로부터 cm 단위의 길이를 입력 받는다. <br/>\n",
    "입력 값이 음수이면 \"잘못 입력하였습니다\"라는 메시지를 출력하고 양수이면 길이를 인치로 변환하여 출력하는 프로그램을 작성하라. <br/>\n",
    "1인치 = 2.54cm"
   ]
  },
  {
   "cell_type": "code",
   "execution_count": 11,
   "metadata": {},
   "outputs": [
    {
     "name": "stdout",
     "output_type": "stream",
     "text": [
      "250cm : 98.43inch \n"
     ]
    }
   ],
   "source": [
    "centi = int(input(\"길이 입력(cm) : \"))\n",
    "if centi < 0: \n",
    "    print(\"잘못 입력하였습니다.\")\n",
    "else : \n",
    "    print(f\"{centi}cm : {centi/2.54:.2f}inch \")"
   ]
  },
  {
   "attachments": {},
   "cell_type": "markdown",
   "metadata": {},
   "source": [
    "사용자로부터 현재 시간을 나타내는 1~12의 숫자를 입력 받는다.<br/> \n",
    "또 \"am\" 혹은 \"pm\"을 입력 받고 경과 시간을 나타내는 값을 입력 받는다.<br/>\n",
    "이로부터 최종 시간이 몇 시인지 출력하는 프로그램을 작성하라.\n"
   ]
  },
  {
   "cell_type": "code",
   "execution_count": 26,
   "metadata": {},
   "outputs": [
    {
     "name": "stdout",
     "output_type": "stream",
     "text": [
      "pm 12에서 5시간 경과 후 시간 : am 5시\n"
     ]
    }
   ],
   "source": [
    "time = int(input(\"현재 시간(1 ~ 12) : \"))\n",
    "ampm = int(input(\"0(am) or 1(pm) : \"))\n",
    "ampm_tuple = (\"am\", \"pm\", \"am\")\n",
    "later = int(input(\"경과 시간 : \"))\n",
    "\n",
    "print(f\"{ampm_tuple[ampm]} {time}시에서 {later}시간 경과 후 시간 : {ampm_tuple[ampm] if time + later <= 12 else ampm_tuple[ampm + 1]} {time + later if time + later <= 12 else (time + later) - 12}시\")"
   ]
  },
  {
   "attachments": {},
   "cell_type": "markdown",
   "metadata": {},
   "source": [
    "## for"
   ]
  },
  {
   "cell_type": "code",
   "execution_count": null,
   "metadata": {},
   "outputs": [],
   "source": []
  },
  {
   "cell_type": "code",
   "execution_count": null,
   "metadata": {},
   "outputs": [],
   "source": []
  },
  {
   "cell_type": "code",
   "execution_count": null,
   "metadata": {},
   "outputs": [],
   "source": []
  },
  {
   "attachments": {},
   "cell_type": "markdown",
   "metadata": {},
   "source": [
    "## while"
   ]
  },
  {
   "cell_type": "code",
   "execution_count": null,
   "metadata": {},
   "outputs": [],
   "source": []
  },
  {
   "cell_type": "code",
   "execution_count": null,
   "metadata": {},
   "outputs": [],
   "source": []
  },
  {
   "cell_type": "code",
   "execution_count": null,
   "metadata": {},
   "outputs": [],
   "source": []
  }
 ],
 "metadata": {
  "kernelspec": {
   "display_name": "base",
   "language": "python",
   "name": "python3"
  },
  "language_info": {
   "codemirror_mode": {
    "name": "ipython",
    "version": 3
   },
   "file_extension": ".py",
   "mimetype": "text/x-python",
   "name": "python",
   "nbconvert_exporter": "python",
   "pygments_lexer": "ipython3",
   "version": "3.10.11"
  },
  "orig_nbformat": 4
 },
 "nbformat": 4,
 "nbformat_minor": 2
}
