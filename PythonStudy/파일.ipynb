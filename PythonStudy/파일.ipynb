{
 "cells": [
  {
   "cell_type": "code",
   "execution_count": 19,
   "metadata": {},
   "outputs": [],
   "source": [
    "# with문은 파일을 열고 작업을 마치면 파일을 자동으로 닫아줍니다.\n",
    "with open(\"example.txt\", \"w\") as file:\n",
    "\n",
    "file = open(\"example.txt\", \"w\")\n",
    "\n",
    "# 파일에 문자열을 씁니다.\n",
    "file.write(\"Iru is cute. \\n\")\n",
    "\n",
    "# 파일에 문자열의 리스트를 씁니다.\n",
    "lines = [\"We will use it to demonstrate file writing in Python.\\n\",\n",
    "         \"We can write multiple lines at once.\\n\"]\n",
    "file.writelines(lines)\n",
    "\n",
    "file.close()"
   ]
  },
  {
   "cell_type": "code",
   "execution_count": 23,
   "metadata": {},
   "outputs": [
    {
     "name": "stdout",
     "output_type": "stream",
     "text": [
      "['Iru is cute. \\n', 'We will use it to demonstrate file writing in Python.\\n', 'We can write multiple lines at once.\\n']\n"
     ]
    }
   ],
   "source": [
    "file = open(\"example.txt\", \"r\")\n",
    "\n",
    "# 파일 내용 전체를 읽습니다.\n",
    "content = file.read()\n",
    "print(content)\n",
    "\n",
    "# 파일에서 한 줄을 읽습니다.\n",
    "line = file.readline()\n",
    "print(line)\n",
    "\n",
    "# 파일 전체를 읽고 각 줄을 리스트로 반환합니다.\n",
    "lines = file.readlines()\n",
    "print(lines)\n",
    "\n",
    "file.close()"
   ]
  }
 ],
 "metadata": {
  "kernelspec": {
   "display_name": "base",
   "language": "python",
   "name": "python3"
  },
  "language_info": {
   "codemirror_mode": {
    "name": "ipython",
    "version": 3
   },
   "file_extension": ".py",
   "mimetype": "text/x-python",
   "name": "python",
   "nbconvert_exporter": "python",
   "pygments_lexer": "ipython3",
   "version": "3.10.11"
  },
  "orig_nbformat": 4
 },
 "nbformat": 4,
 "nbformat_minor": 2
}
