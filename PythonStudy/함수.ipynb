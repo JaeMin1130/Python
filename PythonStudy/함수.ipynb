{
 "cells": [
  {
   "attachments": {},
   "cell_type": "markdown",
   "metadata": {},
   "source": [
    "두 개의 매개변수 n, m을 전달받아 m x n개의 * 상자를 출력하는 프로그램을 함수로 작성\n"
   ]
  },
  {
   "cell_type": "code",
   "execution_count": 6,
   "metadata": {},
   "outputs": [
    {
     "name": "stdout",
     "output_type": "stream",
     "text": [
      "****\n",
      "****\n"
     ]
    }
   ],
   "source": [
    "def show(m, n):\n",
    "    for i in range(m):\n",
    "        print('*' * n)\n",
    "m = int(input())\n",
    "n = int(input())\n",
    "show(m,n)"
   ]
  },
  {
   "attachments": {},
   "cell_type": "markdown",
   "metadata": {},
   "source": [
    "하나의 숫자를 전달받아 숫자의 자리 합을 구하는 함수를 작성"
   ]
  },
  {
   "cell_type": "code",
   "execution_count": 10,
   "metadata": {},
   "outputs": [
    {
     "name": "stdout",
     "output_type": "stream",
     "text": [
      "15\n"
     ]
    }
   ],
   "source": [
    "num = int(input())\n",
    "def sum(num):\n",
    "    val = 0\n",
    "    while(num > 0):\n",
    "        val += num % 10\n",
    "        num //= 10\n",
    "    return val\n",
    "print(sum(num))"
   ]
  },
  {
   "attachments": {},
   "cell_type": "markdown",
   "metadata": {},
   "source": [
    "문자열과 하나의 문자를 전달받아 문자열에서 문자의 위치를 모두 찾아 리스트로 반환하는 함수를 작성\n"
   ]
  },
  {
   "cell_type": "code",
   "execution_count": 33,
   "metadata": {},
   "outputs": [
    {
     "name": "stdout",
     "output_type": "stream",
     "text": [
      "[1, 2]\n"
     ]
    }
   ],
   "source": [
    "str = input()\n",
    "char = input()\n",
    "def find(str, char):\n",
    "    result = []\n",
    "    for i in range(len(str)):\n",
    "        if(str[i] == char):\n",
    "            result.append(i)\n",
    "    return result\n",
    "print(find(str, char))"
   ]
  },
  {
   "attachments": {},
   "cell_type": "markdown",
   "metadata": {},
   "source": [
    "재귀 함수를 이용하여 1부터 100까지의 합을 계산하는 프로그램\n"
   ]
  },
  {
   "cell_type": "code",
   "execution_count": 34,
   "metadata": {},
   "outputs": [
    {
     "name": "stdout",
     "output_type": "stream",
     "text": [
      "5050\n"
     ]
    }
   ],
   "source": [
    "def recur(n):\n",
    "    if n == 1:\n",
    "        return 1\n",
    "    else:\n",
    "        return n + recur(n - 1)\n",
    "print(recur(100))"
   ]
  },
  {
   "attachments": {},
   "cell_type": "markdown",
   "metadata": {},
   "source": [
    "enumerate() 내장 함수를 이용하여 사용자가 입력한 문자열에서 'a' 문자의 위치를 모두 찾아 출력하는 프로그램을 작성하라.<br/> \n",
    "'a'가 없으면 \"a가 없습니다'라는 메시지를 출력하라.\n",
    "\n"
   ]
  },
  {
   "cell_type": "code",
   "execution_count": 56,
   "metadata": {},
   "outputs": [
    {
     "name": "stdout",
     "output_type": "stream",
     "text": [
      "a가 없습니다.\n"
     ]
    }
   ],
   "source": [
    "str = list(input())\n",
    "result = []\n",
    "for idx, char in enumerate(str):\n",
    "    if char == 'a':\n",
    "        result.append(idx)\n",
    "if len(result) == 0: \n",
    "    print(\"a가 없습니다.\")\n",
    "else: \n",
    "    print(result)"
   ]
  },
  {
   "attachments": {},
   "cell_type": "markdown",
   "metadata": {},
   "source": [
    "두 수의 합(sum), 차(sub), 곱(mul), 나누기(div)를 수행하는 함수를 각각 정의하라.<br/> \n",
    "딕셔너리를 이용하여 사용자가 '1'을 입력하면 sum()을 호출하고,<br/>\n",
    "'2'를 입력하면 sub(), '3'을 입력하면 mul(), '4'를 입력하면 div() 함수를 호출하여 두 수의 연산을 수행하는 프로그램을 작성하라.\n"
   ]
  },
  {
   "cell_type": "code",
   "execution_count": 90,
   "metadata": {},
   "outputs": [
    {
     "name": "stdout",
     "output_type": "stream",
     "text": [
      "4 * 5 = 20\n"
     ]
    }
   ],
   "source": [
    "def func():\n",
    "    def sum(a, b):\n",
    "        return a + b\n",
    "    def sub(a, b):\n",
    "        return a - b\n",
    "    def mul(a, b):\n",
    "        return a * b\n",
    "    def div(a, b):\n",
    "        return a / b\n",
    "    return sum, sub, mul, div\n",
    "\n",
    "dic = dict(enumerate(func()))\n",
    "\n",
    "num = int(input(f\"1: 합, 2: 차, 3: 곱, 4: 나누기\"))\n",
    "arr = ['+', '-', '*', '/']\n",
    "a = int(input())\n",
    "b = int(input())\n",
    "\n",
    "print(f\"{a} {arr[num - 1]} {b} = {dic[num - 1](a, b)}\")"
   ]
  },
  {
   "attachments": {},
   "cell_type": "markdown",
   "metadata": {},
   "source": [
    "다음과 같이 구성되는 문자열을 구분 문자(&, =)로 분리하여 딕셔너리로 반환하는 함수 작성<br/>\n",
    "문자열 'led=on&motor=off&switch=off'이고 구분 문자가 '&', '='일 때 {'led':'on', 'motor':'off', 'switch':off'} 반환.<br/>\n",
    "Hint: dict([['a','b'], ['c', 'd']]) => {'a': 'b', 'c': 'd'}\n"
   ]
  },
  {
   "cell_type": "code",
   "execution_count": 98,
   "metadata": {},
   "outputs": [
    {
     "name": "stdout",
     "output_type": "stream",
     "text": [
      "[['led', 'on'], ['motor', 'off'], ['switch', 'off']]\n",
      "{'led': 'on', 'motor': 'off', 'switch': 'off'}\n"
     ]
    }
   ],
   "source": [
    "str = 'led=on&motor=off&switch=off'.split('&')\n",
    "arr = []\n",
    "for i in str:\n",
    "    arr.append(i.split('='))\n",
    "print(arr)\n",
    "print(dict(arr))"
   ]
  }
 ],
 "metadata": {
  "kernelspec": {
   "display_name": "base",
   "language": "python",
   "name": "python3"
  },
  "language_info": {
   "name": "python",
   "version": "3.10.11"
  },
  "orig_nbformat": 4
 },
 "nbformat": 4,
 "nbformat_minor": 2
}
