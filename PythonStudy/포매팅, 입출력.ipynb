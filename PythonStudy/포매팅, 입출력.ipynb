{
 "cells": [
  {
   "attachments": {},
   "cell_type": "markdown",
   "metadata": {},
   "source": [
    "### 문자 포매팅"
   ]
  },
  {
   "cell_type": "code",
   "execution_count": 7,
   "metadata": {},
   "outputs": [
    {
     "name": "stdout",
     "output_type": "stream",
     "text": [
      "My name is John ,    24 years old and I'm 178.780 tall.\n"
     ]
    }
   ],
   "source": [
    "name = \"John\"\n",
    "age = 24\n",
    "height = 178.78\n",
    "print(f\"My name is {name:5s}, {age:5d} years old and I'm {height:.3f} tall.\")"
   ]
  },
  {
   "attachments": {},
   "cell_type": "markdown",
   "metadata": {},
   "source": [
    "## input"
   ]
  },
  {
   "attachments": {},
   "cell_type": "markdown",
   "metadata": {},
   "source": [
    "##### 1번 : 사용자로부터 사과의 개수와 가격, 그리고 부가세율을 입력받아, 총 가격을 계산하는 프로그램을 작성하세요."
   ]
  },
  {
   "cell_type": "code",
   "execution_count": 14,
   "metadata": {},
   "outputs": [
    {
     "name": "stdout",
     "output_type": "stream",
     "text": [
      "사과의 총 가격 : 5,756\n"
     ]
    }
   ],
   "source": [
    "num = int(input(\"사과의 개수 : \"))\n",
    "price = int(input(\"사과의 가격 : \"))\n",
    "vat = int(input(\"부가세율(%) : \"))\n",
    "priceSum = num * price * (vat * 0.01)\n",
    "print(f\"결제 금액 : {priceSum:,.0f}원\")"
   ]
  },
  {
   "attachments": {},
   "cell_type": "markdown",
   "metadata": {},
   "source": [
    "##### 2번 : 초를 입력하면 분과 초로 표시하는 프로그램.\n"
   ]
  },
  {
   "cell_type": "code",
   "execution_count": 16,
   "metadata": {},
   "outputs": [
    {
     "name": "stdout",
     "output_type": "stream",
     "text": [
      "9분 8초\n"
     ]
    }
   ],
   "source": [
    "second = int(input(\"입력 : \"))\n",
    "print(f\"{second // 60:.0f}분 {second % 60}초\")"
   ]
  },
  {
   "attachments": {},
   "cell_type": "markdown",
   "metadata": {},
   "source": [
    "##### 3번 : 분(min)을 입력 하면, 일, 시간, 분으로 출력하는 프로그램을 만들어라. "
   ]
  },
  {
   "cell_type": "code",
   "execution_count": 25,
   "metadata": {},
   "outputs": [
    {
     "name": "stdout",
     "output_type": "stream",
     "text": [
      "0일 3시간 20분\n"
     ]
    }
   ],
   "source": [
    "minute = int(input(\"입력 : \"))\n",
    "day = minute // 1440\n",
    "hour = minute // 60 % 24\n",
    "minute = minute % 60\n",
    "print(f\"{day:.0f}일 {hour:.0f}시간 {minute:.0f}분\")"
   ]
  },
  {
   "attachments": {},
   "cell_type": "markdown",
   "metadata": {},
   "source": [
    "##### 4번 : 500만원을 년이율 5%로 복리 저금했을 때 5년 후의 원리금의 합계를 출력하는 프로그램\n"
   ]
  },
  {
   "cell_type": "code",
   "execution_count": 29,
   "metadata": {},
   "outputs": [
    {
     "name": "stdout",
     "output_type": "stream",
     "text": [
      "복리 5년 후 상환금액 : 6,381,408원\n"
     ]
    }
   ],
   "source": [
    "p = 5000000\n",
    "ratio = 0.05\n",
    "print(f\"복리 5년 후 상환금액 : {p * ((1 + ratio) ** 5):,.0f}원\")"
   ]
  },
  {
   "attachments": {},
   "cell_type": "markdown",
   "metadata": {},
   "source": [
    "##### 5번 : 1부터 n까지의 합은 n(n+1)/2로 주어진다. 1부터 100까지의 합을 구하여 출력하는 프로그램을 작성하고 실행하라."
   ]
  },
  {
   "cell_type": "code",
   "execution_count": 34,
   "metadata": {},
   "outputs": [
    {
     "name": "stdout",
     "output_type": "stream",
     "text": [
      "1 ~ 100 합 : 5050\n"
     ]
    }
   ],
   "source": [
    "for i in range(1, 101):\n",
    "  sum = i*(i+1) / 2\n",
    "print(f\"1 ~ 100 합 : {sum:.0f}\")"
   ]
  },
  {
   "attachments": {},
   "cell_type": "markdown",
   "metadata": {},
   "source": [
    "##### 6번 : 판매자가 딸기와 포도를 판매하고 있다. 포도 한 알의 무게는 75g이고 딸기 한 알의 무게는 113.5g이다. 사용자로부터 포도 알의 개수와 딸기의 개수를 입력 받아 총 무게를 계산하여 출력하는 프로그램을 작성하고 실행하라.\n"
   ]
  },
  {
   "cell_type": "code",
   "execution_count": 37,
   "metadata": {},
   "outputs": [
    {
     "name": "stdout",
     "output_type": "stream",
     "text": [
      "총 무게 : 4.9kg\n"
     ]
    }
   ],
   "source": [
    "weight_straw = 75\n",
    "weight_grape = 113.5\n",
    "num_straw = int(input(\"딸기 개수 : \"))\n",
    "num_grape = int(input(\"포도 개수 : \"))\n",
    "print(f\"총 무게 : {(num_straw*weight_straw + num_grape*weight_grape)/1000:.1f}kg\")"
   ]
  }
 ],
 "metadata": {
  "kernelspec": {
   "display_name": "base",
   "language": "python",
   "name": "python3"
  },
  "language_info": {
   "codemirror_mode": {
    "name": "ipython",
    "version": 3
   },
   "file_extension": ".py",
   "mimetype": "text/x-python",
   "name": "python",
   "nbconvert_exporter": "python",
   "pygments_lexer": "ipython3",
   "version": "3.10.11"
  },
  "orig_nbformat": 4
 },
 "nbformat": 4,
 "nbformat_minor": 2
}
