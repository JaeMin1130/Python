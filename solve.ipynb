{
 "cells": [
  {
   "cell_type": "code",
   "execution_count": 27,
   "metadata": {},
   "outputs": [
    {
     "name": "stdout",
     "output_type": "stream",
     "text": [
      "3 1 2 5 4 \n",
      "3 1 4 2 5 \n"
     ]
    }
   ],
   "source": [
    "from collections import deque\n",
    "\n",
    "# 입력 받은 간선 정보로 정점 간 관계를 dictionary로 생성\n",
    "def createEdges(a, b, edges):\n",
    "    if(b not in edges.values()): \n",
    "        edges[a].append(b)\n",
    "\n",
    "# 깊이 우선 탐색 : 재귀 사용\n",
    "def DFS(edges, point, result_dfs):\n",
    "    edge = edges\n",
    "    next = sorted(filter(lambda i: i not in result_dfs, edge[point]))\n",
    "    if(point not in result_dfs):\n",
    "        result_dfs.append(point)\n",
    "    if len(next) != 0: \n",
    "        for i in next:\n",
    "            DFS(edge, i, result_dfs)\n",
    "\n",
    "# 넓이 우선 탐색 : 큐 사용\n",
    "def BFS(edges, point, result_bfs):\n",
    "    edge = edges\n",
    "    q = deque()\n",
    "    q.append(point)\n",
    "    result_bfs.append(point)\n",
    "    while q:\n",
    "        popped = q.popleft()\n",
    "        if(len(edges[popped]) != 0):\n",
    "            for i in sorted(edges[popped]):\n",
    "                if(i not in result_bfs):\n",
    "                    q.append(i)\n",
    "                    result_bfs.append(i)\n",
    "# 형식에 맞게 출력\n",
    "def show(result):\n",
    "    for i in range(len(result)):\n",
    "        print (result[i] , end = ' ')\n",
    "    print()\n",
    "\n",
    "# 정점 갯수, 간선 갯수\n",
    "N1, N2, startPoint = map(int, input().split())\n",
    "\n",
    "temp = []\n",
    "for i in range(N2):\n",
    "    temp.append(list(map(int, input().split())))\n",
    "\n",
    "edges = {}\n",
    "# 모든 정점을 key로 넣어 edges 초기화\n",
    "# 안 하면 startPoint에 간선이 하나도 없을 때 DFS에서 에러 발생\n",
    "for i in range(1, N1+1):\n",
    "    edges[i] = []\n",
    "for i in temp:\n",
    "   createEdges(i[0], i[1], edges)\n",
    "   createEdges(i[1], i[0], edges)\n",
    "\n",
    "result_dfs = []\n",
    "result_bfs = []\n",
    "DFS(edges, startPoint, result_dfs)\n",
    "BFS(edges, startPoint, result_bfs)\n",
    "\n",
    "show(result_dfs)\n",
    "show(result_bfs)"
   ]
  },
  {
   "cell_type": "code",
   "execution_count": 23,
   "metadata": {},
   "outputs": [
    {
     "name": "stdout",
     "output_type": "stream",
     "text": [
      "5\n"
     ]
    }
   ],
   "source": [
    "from collections import defaultdict\n",
    "\n",
    "def dfs(dic, cpu, worm):\n",
    "    next = list(filter(lambda i: i not in worm, dic[cpu]))    \n",
    "    worm.append(cpu)\n",
    "    if len(next) != 0:\n",
    "        for i in next:\n",
    "            dfs(dic, i, worm)\n",
    "    else:\n",
    "        return\n",
    "\n",
    "cpu = int(input())\n",
    "line = int(input())\n",
    "\n",
    "\n",
    "dic = {}\n",
    "for i in range(line):\n",
    "    val = input().split()\n",
    "    if val[0] not in dic.keys():\n",
    "        dic[val[0]] = [val[1]]\n",
    "    else:\n",
    "        dic[val[0]].append(val[1])\n",
    "\n",
    "    if val[1] not in dic.keys():\n",
    "        dic[val[1]] = [val[0]]\n",
    "    else:\n",
    "        dic[val[1]].append(val[0])\n",
    "\n",
    "dic = defaultdict(list)\n",
    "for i in range(line):\n",
    "    a, b = map(int, input().split())\n",
    "    dic[a].append(b)\n",
    "    dic[b].append(a)\n",
    "    \n",
    "worm = []\n",
    "dfs(dic, '1', worm)\n",
    "print(len(worm) - 1)"
   ]
  },
  {
   "cell_type": "code",
   "execution_count": 29,
   "metadata": {},
   "outputs": [
    {
     "name": "stdout",
     "output_type": "stream",
     "text": [
      "2\n",
      "3\n",
      "{'red': 3, 'blue': 2, 'green': 1}\n"
     ]
    }
   ],
   "source": [
    "from collections import Counter\n",
    "\n",
    "counter = Counter(['red', 'blue', 'red', 'blue', 'green', 'red'])\n",
    "\n",
    "print(counter['blue'])\n",
    "print(counter['red'])\n",
    "print(dict(counter))\n"
   ]
  }
 ],
 "metadata": {
  "kernelspec": {
   "display_name": "base",
   "language": "python",
   "name": "python3"
  },
  "language_info": {
   "codemirror_mode": {
    "name": "ipython",
    "version": 3
   },
   "file_extension": ".py",
   "mimetype": "text/x-python",
   "name": "python",
   "nbconvert_exporter": "python",
   "pygments_lexer": "ipython3",
   "version": "3.10.11"
  },
  "orig_nbformat": 4
 },
 "nbformat": 4,
 "nbformat_minor": 2
}
