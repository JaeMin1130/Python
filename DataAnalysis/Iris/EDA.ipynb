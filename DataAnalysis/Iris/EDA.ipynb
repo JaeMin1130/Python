{
 "cells": [
  {
   "cell_type": "code",
   "execution_count": 46,
   "metadata": {},
   "outputs": [],
   "source": [
    "import numpy as np\n",
    "import pandas as pd\n",
    "import matplotlib as plt\n",
    "import seaborn as sns\n",
    "import missingno as msno    # 누락값 표시\n",
    "import warnings\n",
    "warnings.filterwarnings('ignore')  # 워닝 무시\n",
    "\n",
    "# 새로운 창 안 뜨고 노트북에 바로 뜸\n",
    "%matplotlib inline "
   ]
  },
  {
   "cell_type": "code",
   "execution_count": 47,
   "metadata": {},
   "outputs": [
    {
     "data": {
      "text/plain": [
       "dict_keys(['data', 'target', 'frame', 'target_names', 'DESCR', 'feature_names', 'filename', 'data_module'])"
      ]
     },
     "execution_count": 47,
     "metadata": {},
     "output_type": "execute_result"
    }
   ],
   "source": [
    "from sklearn.datasets import load_iris\n",
    "\n",
    "iris = load_iris()\n",
    "\n",
    "iris.keys()"
   ]
  },
  {
   "cell_type": "code",
   "execution_count": 48,
   "metadata": {},
   "outputs": [],
   "source": [
    "from sklearn.preprocessing import MinMaxScaler\n",
    "\n",
    "iris_data = iris.data\n",
    "iris_col = iris.feature_names # sepal : 꽃받침, petal : 꽃잎 \n",
    "iris_target = iris.target\n",
    "\n",
    "scaler = MinMaxScaler()\n",
    "normalized_data = scaler.fit_transform(iris_data)"
   ]
  },
  {
   "cell_type": "code",
   "execution_count": 49,
   "metadata": {},
   "outputs": [
    {
     "data": {
      "text/html": [
       "<div>\n",
       "<style scoped>\n",
       "    .dataframe tbody tr th:only-of-type {\n",
       "        vertical-align: middle;\n",
       "    }\n",
       "\n",
       "    .dataframe tbody tr th {\n",
       "        vertical-align: top;\n",
       "    }\n",
       "\n",
       "    .dataframe thead th {\n",
       "        text-align: right;\n",
       "    }\n",
       "</style>\n",
       "<table border=\"1\" class=\"dataframe\">\n",
       "  <thead>\n",
       "    <tr style=\"text-align: right;\">\n",
       "      <th></th>\n",
       "      <th>sepal length (cm)</th>\n",
       "      <th>sepal width (cm)</th>\n",
       "      <th>petal length (cm)</th>\n",
       "      <th>petal width (cm)</th>\n",
       "    </tr>\n",
       "  </thead>\n",
       "  <tbody>\n",
       "    <tr>\n",
       "      <th>count</th>\n",
       "      <td>150.000000</td>\n",
       "      <td>150.000000</td>\n",
       "      <td>150.000000</td>\n",
       "      <td>150.000000</td>\n",
       "    </tr>\n",
       "    <tr>\n",
       "      <th>mean</th>\n",
       "      <td>5.843333</td>\n",
       "      <td>3.057333</td>\n",
       "      <td>3.758000</td>\n",
       "      <td>1.199333</td>\n",
       "    </tr>\n",
       "    <tr>\n",
       "      <th>std</th>\n",
       "      <td>0.828066</td>\n",
       "      <td>0.435866</td>\n",
       "      <td>1.765298</td>\n",
       "      <td>0.762238</td>\n",
       "    </tr>\n",
       "    <tr>\n",
       "      <th>min</th>\n",
       "      <td>4.300000</td>\n",
       "      <td>2.000000</td>\n",
       "      <td>1.000000</td>\n",
       "      <td>0.100000</td>\n",
       "    </tr>\n",
       "    <tr>\n",
       "      <th>25%</th>\n",
       "      <td>5.100000</td>\n",
       "      <td>2.800000</td>\n",
       "      <td>1.600000</td>\n",
       "      <td>0.300000</td>\n",
       "    </tr>\n",
       "    <tr>\n",
       "      <th>50%</th>\n",
       "      <td>5.800000</td>\n",
       "      <td>3.000000</td>\n",
       "      <td>4.350000</td>\n",
       "      <td>1.300000</td>\n",
       "    </tr>\n",
       "    <tr>\n",
       "      <th>75%</th>\n",
       "      <td>6.400000</td>\n",
       "      <td>3.300000</td>\n",
       "      <td>5.100000</td>\n",
       "      <td>1.800000</td>\n",
       "    </tr>\n",
       "    <tr>\n",
       "      <th>max</th>\n",
       "      <td>7.900000</td>\n",
       "      <td>4.400000</td>\n",
       "      <td>6.900000</td>\n",
       "      <td>2.500000</td>\n",
       "    </tr>\n",
       "  </tbody>\n",
       "</table>\n",
       "</div>"
      ],
      "text/plain": [
       "       sepal length (cm)  sepal width (cm)  petal length (cm)  \\\n",
       "count         150.000000        150.000000         150.000000   \n",
       "mean            5.843333          3.057333           3.758000   \n",
       "std             0.828066          0.435866           1.765298   \n",
       "min             4.300000          2.000000           1.000000   \n",
       "25%             5.100000          2.800000           1.600000   \n",
       "50%             5.800000          3.000000           4.350000   \n",
       "75%             6.400000          3.300000           5.100000   \n",
       "max             7.900000          4.400000           6.900000   \n",
       "\n",
       "       petal width (cm)  \n",
       "count        150.000000  \n",
       "mean           1.199333  \n",
       "std            0.762238  \n",
       "min            0.100000  \n",
       "25%            0.300000  \n",
       "50%            1.300000  \n",
       "75%            1.800000  \n",
       "max            2.500000  "
      ]
     },
     "execution_count": 49,
     "metadata": {},
     "output_type": "execute_result"
    }
   ],
   "source": [
    "from sklearn.preprocessing import MinMaxScaler\n",
    "\n",
    "df_unnormal = pd.DataFrame(data = iris_data, columns = iris_col)\n",
    "\n",
    "df_normal = pd.DataFrame(data = normalized_data, columns = iris_col)\n",
    "\n",
    "df_unnormal.describe()\n"
   ]
  },
  {
   "cell_type": "code",
   "execution_count": 50,
   "metadata": {},
   "outputs": [],
   "source": [
    "from sklearn.neighbors import KNeighborsClassifier\n",
    "from sklearn.linear_model import LogisticRegression\n",
    "from sklearn.tree import DecisionTreeClassifier\n",
    "from sklearn.ensemble import RandomForestClassifier\n",
    "from sklearn.model_selection import train_test_split"
   ]
  },
  {
   "cell_type": "code",
   "execution_count": 51,
   "metadata": {},
   "outputs": [
    {
     "name": "stdout",
     "output_type": "stream",
     "text": [
      "Train data unnormalized: 0.964\n",
      "Test data unnormalized: 0.974 \n",
      "\n",
      "Train data normalized: 0.973\n",
      "Test data normalized: 0.974\n"
     ]
    }
   ],
   "source": [
    "# 정규화 데이터, 비정규화 데이터 예측 점수 비교\n",
    "\n",
    "X_train1, X_test1, y_train1, y_test1 = train_test_split(df_unnormal, iris_target, random_state=0)\n",
    "X_train2, X_test2, y_train2, y_test2 = train_test_split(df_normal, iris_target, random_state=0)\n",
    "\n",
    "clf_unnormal =  KNeighborsClassifier(n_neighbors=3).fit(X_train1, y_train1)\n",
    "clf_normal =  KNeighborsClassifier(n_neighbors=3).fit(X_train2, y_train2)\n",
    "\n",
    "print('Train data unnormalized: {:.3f}'.format(clf_unnormal.score(X_train1, y_train1)))\n",
    "print('Test data unnormalized: {:.3f} \\n'.format(clf_unnormal.score(X_test1, y_test1)))\n",
    "\n",
    "print('Train data normalized: {:.3f}'.format(clf_normal.score(X_train2, y_train2)))\n",
    "print('Test data normalized: {:.3f}'.format(clf_normal.score(X_test2, y_test2)))"
   ]
  },
  {
   "cell_type": "code",
   "execution_count": 52,
   "metadata": {},
   "outputs": [
    {
     "name": "stdout",
     "output_type": "stream",
     "text": [
      "Best Parameters: {'C': 10.0, 'penalty': 'l2'}\n",
      "Best Score: 0.953\n"
     ]
    }
   ],
   "source": [
    "# GridSearchCV로 LogisticRegression 모델의 최적의 파라미터 찾아보기\n",
    "\n",
    "from sklearn.model_selection import GridSearchCV\n",
    "\n",
    "# Define the parameter grid\n",
    "param_grid = {\n",
    "    'C': [0.1, 1.0, 10.0],\n",
    "    'penalty': ['l1', 'l2']\n",
    "}\n",
    "\n",
    "# Perform grid search\n",
    "grid_search = GridSearchCV(estimator=logreg, param_grid=param_grid, cv=5) # cv = 5 => 5-fold\n",
    "grid_search.fit(df_normal, iris_target)\n",
    "\n",
    "# Get the best parameters and best score\n",
    "best_params = grid_search.best_params_\n",
    "best_score = grid_search.best_score_\n",
    "\n",
    "print(\"Best Parameters:\", best_params)\n",
    "print(\"Best Score: {:.3f}\".format(best_score))\n"
   ]
  },
  {
   "cell_type": "code",
   "execution_count": 53,
   "metadata": {},
   "outputs": [
    {
     "name": "stdout",
     "output_type": "stream",
     "text": [
      "Train score with default params : 0.929\n",
      "Train score with default params : 0.895 \n",
      "\n",
      "Test score with searched params :0.964\n",
      "Test score with searched params :0.974\n"
     ]
    }
   ],
   "source": [
    "X_train, X_test, y_train, y_test = train_test_split(df_normal, iris_target, random_state=0)\n",
    "\n",
    "prev_logreg = LogisticRegression().fit(X_train, y_train)\n",
    "\n",
    "print('Train score with default params : {:.3f}'.format(prev_logreg.score(X_train, y_train)))\n",
    "print('Train score with default params : {:.3f} \\n'.format(prev_logreg.score(X_test, y_test)))\n",
    "\n",
    "grid_logreg = LogisticRegression(C = 10.0, penalty = 'l2')\n",
    "grid_logreg.fit(X_train, y_train)\n",
    "\n",
    "print('Test score with searched params :{:.3f}'.format(grid_logreg.score(X_train, y_train)))\n",
    "print('Test score with searched params :{:.3f}'.format(grid_logreg.score(X_test, y_test)))"
   ]
  },
  {
   "cell_type": "code",
   "execution_count": 54,
   "metadata": {},
   "outputs": [
    {
     "name": "stdout",
     "output_type": "stream",
     "text": [
      "1.000\n",
      "0.974\n"
     ]
    }
   ],
   "source": [
    "X_train, X_test, y_train, y_test = train_test_split(df_normal, iris_target, random_state=0)\n",
    "\n",
    "deTree = DecisionTreeClassifier().fit(X_train, y_train)\n",
    "\n",
    "print('{:.3f}'.format(deTree.score(X_train, y_train)))\n",
    "print('{:.3f}'.format(deTree.score(X_test, y_test)))"
   ]
  },
  {
   "cell_type": "code",
   "execution_count": 55,
   "metadata": {},
   "outputs": [
    {
     "name": "stdout",
     "output_type": "stream",
     "text": [
      "1.000\n",
      "0.974\n"
     ]
    }
   ],
   "source": [
    "X_train, X_test, y_train, y_test = train_test_split(df_normal, iris_target, random_state=0)\n",
    "\n",
    "forest = RandomForestClassifier().fit(X_train, y_train)\n",
    "\n",
    "print('{:.3f}'.format(forest.score(X_train, y_train)))\n",
    "print('{:.3f}'.format(forest.score(X_test, y_test)))"
   ]
  },
  {
   "cell_type": "code",
   "execution_count": 56,
   "metadata": {},
   "outputs": [
    {
     "name": "stdout",
     "output_type": "stream",
     "text": [
      "Best Parameters: {'max_depth': 10, 'min_samples_leaf': 4, 'min_samples_split': 5, 'n_estimators': 10}\n",
      "Best Score:0.973\n"
     ]
    }
   ],
   "source": [
    "# GridSearchCV로 RandomForestClassifier 모델의 최적의 파라미터 찾아보기\n",
    "\n",
    "from sklearn.model_selection import GridSearchCV\n",
    "\n",
    "param_grid = {\n",
    "    'n_estimators': [10, 50, 100],\n",
    "    'max_depth': [None, 5, 10],\n",
    "    'min_samples_split': [2, 5, 10],\n",
    "    'min_samples_leaf': [1, 2, 4]\n",
    "}\n",
    "\n",
    "grid_search = GridSearchCV(estimator=forest, param_grid=param_grid, cv=10)\n",
    "grid_search.fit(df_normal, iris_target)\n",
    "\n",
    "best_params = grid_search.best_params_\n",
    "best_score = grid_search.best_score_\n",
    "\n",
    "print(\"Best Parameters:\", best_params)\n",
    "print(\"Best Score:{:.3f}\".format(best_score))\n"
   ]
  },
  {
   "cell_type": "code",
   "execution_count": 57,
   "metadata": {},
   "outputs": [
    {
     "name": "stdout",
     "output_type": "stream",
     "text": [
      "Train score with default params : 1.000\n",
      "Train score with default params : 0.974 \n",
      "\n",
      "Test score with searched params :0.982\n",
      "Test score with searched params :0.974\n"
     ]
    }
   ],
   "source": [
    "X_train, X_test, y_train, y_test = train_test_split(df_normal, iris_target, random_state=0)\n",
    "\n",
    "prev_forest = RandomForestClassifier().fit(X_train, y_train)\n",
    "\n",
    "print('Train score with default params : {:.3f}'.format(prev_forest.score(X_train, y_train)))\n",
    "print('Train score with default params : {:.3f} \\n'.format(prev_forest.score(X_test, y_test)))\n",
    "\n",
    "grid_forest = RandomForestClassifier(max_depth = 5, min_samples_leaf =  1, min_samples_split =  5, n_estimators =  10)\n",
    "grid_forest.fit(X_train, y_train)\n",
    "\n",
    "print('Test score with searched params :{:.3f}'.format(grid_forest.score(X_train, y_train)))\n",
    "print('Test score with searched params :{:.3f}'.format(grid_forest.score(X_test, y_test)))"
   ]
  }
 ],
 "metadata": {
  "kernelspec": {
   "display_name": "base",
   "language": "python",
   "name": "python3"
  },
  "language_info": {
   "codemirror_mode": {
    "name": "ipython",
    "version": 3
   },
   "file_extension": ".py",
   "mimetype": "text/x-python",
   "name": "python",
   "nbconvert_exporter": "python",
   "pygments_lexer": "ipython3",
   "version": "3.10.11"
  },
  "orig_nbformat": 4
 },
 "nbformat": 4,
 "nbformat_minor": 2
}
