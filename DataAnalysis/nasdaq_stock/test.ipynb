{
 "cells": [
  {
   "cell_type": "code",
   "execution_count": null,
   "metadata": {},
   "outputs": [],
   "source": [
    "import numpy as np\n",
    "import pandas as pd\n",
    "import matplotlib.pyplot as plt\n",
    "import seaborn as sns\n",
    "\n",
    "plt.style.use('seaborn')\n",
    "sns.set(font_scale=2.5)\n",
    "\n",
    "import missingno as msno    # 누락값 표시\n",
    "import warnings\n",
    "warnings.filterwarnings('ignore')  # 워닝 무시\n",
    "\n",
    "%matplotlib inline \n",
    "# 새로운 창 안 뜨고 노트북에 바로 뜸"
   ]
  },
  {
   "cell_type": "code",
   "execution_count": null,
   "metadata": {},
   "outputs": [],
   "source": [
    "# import os\n",
    "# import pandas as pd\n",
    "\n",
    "# # Set the path to the folder containing the CSV files\n",
    "# folder_path = '/path/to/folder'\n",
    "\n",
    "# # Get a list of all CSV files in the folder\n",
    "# csv_files = [file for file in os.listdir('./nasdaq_stock') if file.endswith('.csv')]\n",
    "\n",
    "# # Create an empty DataFrame to store the merged data\n",
    "# merged_data = pd.DataFrame()\n",
    "\n",
    "# # Iterate over each CSV file and merge its data into the DataFrame\n",
    "# for file in csv_files:\n",
    "#     file_path = os.path.join('./nasdaq_stock', file)\n",
    "#     data = pd.read_csv(file_path)\n",
    "#     nameCol = [file.split('.')[0]] * len(data)\n",
    "#     data.insert(0, 'NameCode', nameCol)\n",
    "#     merged_data = pd.concat([merged_data, data])\n",
    "\n",
    "# # Export the merged data to a new CSV file\n",
    "# merged_data.to_csv('./nasdaq_stock/merged_file.csv', index=False)\n"
   ]
  },
  {
   "cell_type": "code",
   "execution_count": null,
   "metadata": {},
   "outputs": [],
   "source": [
    "data_name = pd.read_csv('./nasdaq_stock_names.csv')\n",
    "rawData = pd.read_csv('./nasdaq_stock/merged_file.csv')"
   ]
  },
  {
   "cell_type": "code",
   "execution_count": null,
   "metadata": {},
   "outputs": [],
   "source": [
    "for col in rawData:\n",
    "    msg = 'column: {:>10}\\t Number of NaN value: {:.0f}'.format(col, rawData[col].isnull().sum())\n",
    "    print(msg)"
   ]
  },
  {
   "cell_type": "code",
   "execution_count": null,
   "metadata": {},
   "outputs": [],
   "source": [
    "data = rawData\n",
    "\n",
    "date = list(data.Date)\n",
    "\n",
    "year = list(map(lambda i: i.split('-')[0], date))\n",
    "data.insert(2, 'Year', year)\n",
    "\n",
    "month = list(map(lambda i: i.split('-')[1], date))\n",
    "data.insert(3, 'Month', month)\n",
    "\n",
    "day = list(map(lambda i: i.split('-')[2], date))\n",
    "data.insert(4, 'Day', day)"
   ]
  },
  {
   "cell_type": "code",
   "execution_count": null,
   "metadata": {},
   "outputs": [],
   "source": [
    "data.groupby('NameCode').Year.count()\n"
   ]
  },
  {
   "cell_type": "code",
   "execution_count": null,
   "metadata": {},
   "outputs": [],
   "source": [
    "f, ax= plt.subplots(1,1, figsize=(40,10))\n",
    "nameArr = set(data.NameCode)\n",
    "arr = []\n",
    "for year in set(data.Year):\n",
    "    arr.append(list(data[data[\"Year\"] == year].index)[-1])\n",
    "arr.sort()\n",
    "\n",
    "for name in nameArr:\n",
    "    sns.lineplot(x=data['Date'], y=data[data['NameCode'] == name]['Adj Close'], ax=ax)\n",
    "\n",
    "plt.legend(list(nameArr), loc='upper left')\n",
    "# plt.xticks(arr, rotation='vertical')\n",
    "# plt.xticks([28855,42068,42320,42570,42822,43074,43326,43578,43829,44080,44332,44585,44837,45087], rotation='vertical')\n",
    "plt.xticks(np.linspace(0, 3271, 14), rotation='vertical')\n",
    "plt.show()"
   ]
  }
 ],
 "metadata": {
  "kernelspec": {
   "display_name": "base",
   "language": "python",
   "name": "python3"
  },
  "language_info": {
   "codemirror_mode": {
    "name": "ipython",
    "version": 3
   },
   "file_extension": ".py",
   "mimetype": "text/x-python",
   "name": "python",
   "nbconvert_exporter": "python",
   "pygments_lexer": "ipython3",
   "version": "3.10.11"
  },
  "orig_nbformat": 4
 },
 "nbformat": 4,
 "nbformat_minor": 2
}
