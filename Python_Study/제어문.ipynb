{
 "cells": [
  {
   "attachments": {},
   "cell_type": "markdown",
   "metadata": {},
   "source": [
    "## if"
   ]
  },
  {
   "attachments": {},
   "cell_type": "markdown",
   "metadata": {},
   "source": [
    "사용자로부터 국어, 영어, 수학 세 과목의 성적을 입력받아, 각 과목의 평균 점수와 총 평균 점수를 계산한 후, 학점을 출력하는 프로그램을 작성하세요.<br/>\n",
    "평균 점수는 소수점 둘째자리까지 출력합니다.<br/>\n",
    "총 평균 점수는 국어: 40%, 영어: 40%, 수학: 20%로 가중치를 부여하여 계산합니다.<br/>\n",
    "총 평균 점수가 90점 이상인 경우 \"A\", 80점 이상인 경우 \"B\", 70점 이상인 경우 \"C\", 60점 이상인 경우 \"D\", 60점 미만인 경우 \"F\"를 출력합니다.\n"
   ]
  },
  {
   "cell_type": "code",
   "execution_count": 9,
   "metadata": {},
   "outputs": [
    {
     "name": "stdout",
     "output_type": "stream",
     "text": [
      "세 과목 평균 점수 : 72.00\n",
      "학점 : C\n"
     ]
    }
   ],
   "source": [
    "Korean = int(input(\"국어 점수 : \"))\n",
    "English = int(input(\"영어 점수 : \"))\n",
    "Math = int(input(\"수학 점수 : \"))\n",
    "avg = (Korean*0.4 + English*0.4 + Math*0.2)\n",
    "grade = \"A\" if avg >= 90 else (\"B\" if avg >= 80 else (\"C\" if avg >= 70 else (\"D\" if avg >= 60 else \"F\")))\n",
    "print(f\"세 과목 평균 점수 : {avg:.2f}\")\n",
    "print(f\"학점 : {grade}\")"
   ]
  },
  {
   "attachments": {},
   "cell_type": "markdown",
   "metadata": {},
   "source": [
    "사용자로부터 cm 단위의 길이를 입력 받는다. <br/>\n",
    "입력 값이 음수이면 \"잘못 입력하였습니다\"라는 메시지를 출력하고 양수이면 길이를 인치로 변환하여 출력하는 프로그램을 작성하라. <br/>\n",
    "1인치 = 2.54cm"
   ]
  },
  {
   "cell_type": "code",
   "execution_count": 11,
   "metadata": {},
   "outputs": [
    {
     "name": "stdout",
     "output_type": "stream",
     "text": [
      "250cm : 98.43inch \n"
     ]
    }
   ],
   "source": [
    "centi = int(input(\"길이 입력(cm) : \"))\n",
    "if centi < 0: \n",
    "    print(\"잘못 입력하였습니다.\")\n",
    "else : \n",
    "    print(f\"{centi}cm : {centi/2.54:.2f}inch \")"
   ]
  },
  {
   "attachments": {},
   "cell_type": "markdown",
   "metadata": {},
   "source": [
    "사용자로부터 현재 시간을 나타내는 1~12의 숫자를 입력 받는다.<br/> \n",
    "또 \"am\" 혹은 \"pm\"을 입력 받고 경과 시간을 나타내는 값을 입력 받는다.<br/>\n",
    "이로부터 최종 시간이 몇 시인지 출력하는 프로그램을 작성하라.\n"
   ]
  },
  {
   "cell_type": "code",
   "execution_count": 26,
   "metadata": {},
   "outputs": [
    {
     "name": "stdout",
     "output_type": "stream",
     "text": [
      "pm 12에서 5시간 경과 후 시간 : am 5시\n"
     ]
    }
   ],
   "source": [
    "time = int(input(\"현재 시간(1 ~ 12) : \"))\n",
    "ampm = int(input(\"0(am) or 1(pm) : \"))\n",
    "ampm_tuple = (\"am\", \"pm\", \"am\")\n",
    "later = int(input(\"경과 시간 : \"))\n",
    "\n",
    "print(f\"{ampm_tuple[ampm]} {time}시에서 {later}시간 경과 후 시간 : {ampm_tuple[ampm] if time + later <= 12 else ampm_tuple[ampm + 1]} {time + later if time + later <= 12 else (time + later) - 12}시\")"
   ]
  },
  {
   "attachments": {},
   "cell_type": "markdown",
   "metadata": {},
   "source": [
    "## 연습 문제"
   ]
  },
  {
   "attachments": {},
   "cell_type": "markdown",
   "metadata": {},
   "source": [
    "\n",
    "두 주사위를 던졌을 때, 합이 7이 되면 이김, 그렇지 않으면 지는 간단한 주사위 게임을 만들어보세요.\n"
   ]
  },
  {
   "cell_type": "code",
   "execution_count": 10,
   "metadata": {},
   "outputs": [
    {
     "name": "stdout",
     "output_type": "stream",
     "text": [
      "두 주사위 합: 7 => Win\n"
     ]
    }
   ],
   "source": [
    "import random\n",
    "dice1 = random.randint(1, 6)\n",
    "dice2 = random.randint(1, 6)\n",
    "sum = dice1 + dice2\n",
    "if dice1 + dice2 == 7: print(f\"두 주사위 합: {sum} => Win\")\n",
    "else: print(f\"두 주사위 합: {sum} => Lose\")"
   ]
  },
  {
   "attachments": {},
   "cell_type": "markdown",
   "metadata": {},
   "source": [
    "사용자로부터 두 개의 정수와 연산자를 입력받아, <br/>\n",
    "입력된 연산자에 따라 두 수의 사칙연산 결과를 출력하는 계산기 프로그램을 작성하세요.<br/>\n",
    "- 프로그램은 사용자가 \"exit\"을 입력할 때까지 계속해서 작동합니다.<br/>\n",
    "- 입력받은 숫자는 어떠한 값이든 상관없습니다.<br/>\n",
    "- 입력받은 연산자는 +, -, *, / 중 하나입니다.<br/>\n",
    "- 나눗셈 연산 결과는 실수형으로 출력하세요.<br/>\n",
    "- 분모가 0일 경우, \"0으로 나눌 수 없습니다.\"를 출력하세요.<br/>\n",
    "- 사용자가 \"exit\"을 입력할 경우, 프로그램을 종료하세요.<br/>\n"
   ]
  },
  {
   "cell_type": "code",
   "execution_count": 15,
   "metadata": {},
   "outputs": [
    {
     "name": "stdout",
     "output_type": "stream",
     "text": [
      "0 / 3 = 0.0\n",
      "0으로 나눌 수 없습니다.\n",
      "3 * 5 = 15\n"
     ]
    }
   ],
   "source": [
    "while(input(\"Insert start or exit\") != \"exit\"):\n",
    "    num1 = int(input(\"First number : \"))\n",
    "    num2 = int(input(\"Second number : \"))\n",
    "    operator = input(\"Select operator : + - * /\")\n",
    "    if operator == '+':\n",
    "        print(f\"{num1} + {num2} = {num1 + num2}\")\n",
    "    elif operator == '-':\n",
    "        print(f\"{num1} - {num2} = {num1 - num2}\")\n",
    "    elif operator == '*':\n",
    "        print(f\"{num1} * {num2} = {num1 * num2}\")\n",
    "    elif operator == '/':\n",
    "        if(num2 == 0):\n",
    "            print(\"0으로 나눌 수 없습니다.\")\n",
    "        else:\n",
    "            print(f\"{num1} / {num2} = {num1 / num2}\")"
   ]
  },
  {
   "attachments": {},
   "cell_type": "markdown",
   "metadata": {},
   "source": [
    "플레이어가 처음에 $50을 가지고 있다. 동전을 한 번 던져서 앞면(1) 또는 뒷면(2)이 나온다.<br/> \n",
    "맞추면 $9을 따고 틀리면 $10을 잃는다. 플레이어가 돈을 모두 잃거나 $100이 되면 게임이 종료된다.\n"
   ]
  },
  {
   "cell_type": "code",
   "execution_count": 9,
   "metadata": {},
   "outputs": [
    {
     "name": "stdout",
     "output_type": "stream",
     "text": [
      "틀렸습니다. 현재 시드 머니 : 40$\n",
      "맞췄습니다. 현재 시드 머니 : 49$\n",
      "맞췄습니다. 현재 시드 머니 : 58$\n",
      "틀렸습니다. 현재 시드 머니 : 48$\n",
      "맞췄습니다. 현재 시드 머니 : 57$\n",
      "틀렸습니다. 현재 시드 머니 : 47$\n",
      "맞췄습니다. 현재 시드 머니 : 56$\n",
      "맞췄습니다. 현재 시드 머니 : 65$\n",
      "맞췄습니다. 현재 시드 머니 : 74$\n",
      "맞췄습니다. 현재 시드 머니 : 83$\n",
      "맞췄습니다. 현재 시드 머니 : 92$\n",
      "맞췄습니다. 현재 시드 머니 : 101$\n",
      "맞췄습니다. 현재 시드 머니 : 110$\n",
      "맞췄습니다. 현재 시드 머니 : 119$\n",
      "맞췄습니다. 현재 시드 머니 : 128$\n",
      "맞췄습니다. 현재 시드 머니 : 137$\n",
      "틀렸습니다. 현재 시드 머니 : 127$\n",
      "틀렸습니다. 현재 시드 머니 : 117$\n",
      "맞췄습니다. 현재 시드 머니 : 126$\n",
      "틀렸습니다. 현재 시드 머니 : 116$\n",
      "맞췄습니다. 현재 시드 머니 : 125$\n",
      "틀렸습니다. 현재 시드 머니 : 115$\n",
      "맞췄습니다. 현재 시드 머니 : 124$\n",
      "맞췄습니다. 현재 시드 머니 : 133$\n",
      "틀렸습니다. 현재 시드 머니 : 123$\n",
      "틀렸습니다. 현재 시드 머니 : 113$\n",
      "틀렸습니다. 현재 시드 머니 : 103$\n",
      "틀렸습니다. 현재 시드 머니 : 93$\n",
      "틀렸습니다. 현재 시드 머니 : 83$\n",
      "틀렸습니다. 현재 시드 머니 : 73$\n",
      "틀렸습니다. 현재 시드 머니 : 63$\n",
      "틀렸습니다. 현재 시드 머니 : 53$\n",
      "틀렸습니다. 현재 시드 머니 : 43$\n",
      "맞췄습니다. 현재 시드 머니 : 52$\n",
      "틀렸습니다. 현재 시드 머니 : 42$\n",
      "틀렸습니다. 현재 시드 머니 : 32$\n",
      "틀렸습니다. 현재 시드 머니 : 22$\n",
      "틀렸습니다. 현재 시드 머니 : 12$\n",
      "틀렸습니다. 현재 시드 머니 : 2$\n",
      "맞췄습니다. 현재 시드 머니 : 11$\n",
      "틀렸습니다. 현재 시드 머니 : 1$\n",
      "틀렸습니다. 현재 시드 머니 : -9$\n"
     ]
    }
   ],
   "source": [
    "import random\n",
    "seed = 50\n",
    "while(seed >= 0 or seed >= 100):\n",
    "    val = int(input(\"Insert 1(앞면) or 2(뒷면): \"))\n",
    "    coin = random.randint(1, 2)\n",
    "    if(val == coin):\n",
    "        seed += 9\n",
    "        print(f\"맞췄습니다. 현재 시드 머니 : {seed}$\")\n",
    "    else:    \n",
    "        seed -= 10\n",
    "        print(f\"틀렸습니다. 현재 시드 머니 : {seed}$\")"
   ]
  },
  {
   "attachments": {},
   "cell_type": "markdown",
   "metadata": {},
   "source": [
    "두 수의 최대 공약수는 두 수를 나누어 떨어지는 가장 큰 수이다. 예를 들어 (16, 24)의 최대 공약수는 8이다. <br/>\n",
    "두 수를 입력 받아 다음 알고리즘에 의해 최대 공약수를 구하는 프로그램을 작성하라.<br/>\n",
    "- 큰 수를 작은 수로 나눈 나머지를 구하라\n",
    "- 큰 수를 작은 수로 대체하고 작은 수는 나머지로 대체하라\n",
    "- 작은 수가 0이 될 때까지 이 과정을 반목하라. 마지막 큰 수가 최대 공약수이다.\n"
   ]
  },
  {
   "cell_type": "code",
   "execution_count": 11,
   "metadata": {},
   "outputs": [
    {
     "name": "stdout",
     "output_type": "stream",
     "text": [
      "최대공약수 : 10\n"
     ]
    }
   ],
   "source": [
    "def divide(big, small):\n",
    "    while(small > 0):\n",
    "        rest = big % small\n",
    "        big = small\n",
    "        small = rest\n",
    "num1 = int(input(\"First Number: \"))\n",
    "num2 = int(input(\"Second Number: \"))\n",
    "if(num1 > num2):\n",
    "    divide(num1, num2)\n",
    "    print(f\"최대공약수 : {num2}\")  \n",
    "elif(num1 < num2):\n",
    "    divide(num2, num1)\n",
    "    print(f\"최대공약수 : {num1}\")  \n",
    "else:\n",
    "    print(num1)    "
   ]
  },
  {
   "attachments": {},
   "cell_type": "markdown",
   "metadata": {},
   "source": [
    "정수를 입력 받아 그 수의 약수를 모두 출력하는 프로그램을 작성하라.<br/>\n",
    "m % n = 0이면 n은 m의 약수이다. 예를 들어 12의 약수는 1, 2, 3, 4, 6, 12이다. \n"
   ]
  },
  {
   "cell_type": "code",
   "execution_count": 21,
   "metadata": {},
   "outputs": [
    {
     "name": "stdout",
     "output_type": "stream",
     "text": [
      "[1, 2, 3, 4, 5, 6, 10, 12, 15, 20, 25, 30, 50, 60, 75, 100, 150, 300]\n"
     ]
    }
   ],
   "source": [
    "num = int(input())\n",
    "arr = []\n",
    "for i in range(1, num // 2):\n",
    "    if(num % i == 0 and i not in arr and num // i not in arr):\n",
    "        arr.append(i)\n",
    "        arr.append(num // i)\n",
    "arr.sort()\n",
    "print(arr)"
   ]
  },
  {
   "attachments": {},
   "cell_type": "markdown",
   "metadata": {},
   "source": [
    "임의의 자연수 n이 입력되면 2부터 n까지의 모든 소수를 출력하는 프로그램.<br/> \n",
    "소수는 1과 자기자신으로만 나누어 떨어지는 수, 예 5, 7\n"
   ]
  },
  {
   "cell_type": "code",
   "execution_count": 22,
   "metadata": {},
   "outputs": [
    {
     "name": "stdout",
     "output_type": "stream",
     "text": [
      "[2, 3, 5, 7]\n"
     ]
    }
   ],
   "source": [
    "num = int(input())\n",
    "flag = True\n",
    "arr = [2]\n",
    "for i in range(3, num + 1):\n",
    "    for j in range(2, i):\n",
    "        if(i % j == 0): \n",
    "            flag = False\n",
    "            break\n",
    "    if(flag): arr.append(i)\n",
    "    else: flag = True\n",
    "print(arr)"
   ]
  }
 ],
 "metadata": {
  "kernelspec": {
   "display_name": "base",
   "language": "python",
   "name": "python3"
  },
  "language_info": {
   "codemirror_mode": {
    "name": "ipython",
    "version": 3
   },
   "file_extension": ".py",
   "mimetype": "text/x-python",
   "name": "python",
   "nbconvert_exporter": "python",
   "pygments_lexer": "ipython3",
   "version": "3.10.11"
  },
  "orig_nbformat": 4
 },
 "nbformat": 4,
 "nbformat_minor": 2
}
