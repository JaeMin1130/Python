{
 "cells": [
  {
   "attachments": {},
   "cell_type": "markdown",
   "metadata": {},
   "source": [
    "#### arange 함수\n",
    "##### numpy.arange(start, stop, step, dtype=None)\n",
    "- start: 시작 값, 범위에 포함, default = 0\n",
    "- stop: 종료 값, 범위에 포함X\n",
    "- step: 값 사이의 간격, default = 1\n",
    "- dtype: 생성된 배열의 데이터 유형을 지정, default = 입력 값에 따라 자동으로 결정됩니다.\n"
   ]
  },
  {
   "cell_type": "code",
   "execution_count": 4,
   "metadata": {},
   "outputs": [
    {
     "name": "stdout",
     "output_type": "stream",
     "text": [
      "[2 4 6 8]\n",
      "[0.  0.1 0.2 0.3 0.4 0.5 0.6 0.7 0.8 0.9]\n",
      "[1. 2. 3. 4. 5.]\n"
     ]
    }
   ],
   "source": [
    "import numpy as np\n",
    "\n",
    "# start, stop, step 지정\n",
    "arr2 = np.arange(2, 10, 2)\n",
    "print(arr2)\n",
    "\n",
    "# 부동 소수점 사용\n",
    "arr3 = np.arange(0, 1, 0.1)\n",
    "print(arr3)\n",
    "\n",
    "# dtype 지정\n",
    "arr4 = np.arange(1, 6, dtype = float)\n",
    "print(arr4)"
   ]
  },
  {
   "attachments": {},
   "cell_type": "markdown",
   "metadata": {},
   "source": [
    "#### random 함수\n",
    "\n"
   ]
  },
  {
   "cell_type": "code",
   "execution_count": null,
   "metadata": {},
   "outputs": [],
   "source": [
    "# random.rand 함수 : (0, 1) 범위에서 균일한 분포를 가지는 난수를 생성 \n",
    "# numpy.random.rand(d0, d1, ..., dn)\n",
    "\n",
    "np.random.rand(5).round(3)\n",
    "np.random.rand(5, 3).round(3)\n",
    "\n",
    "# random.normal 함수 : 정규 분포를 따르는 난수 생성\n",
    "# numpy.random.normal(loc=0.0, scale=1.0, size=None)\n",
    "# loc: 정규 분포의 평균 값, default = 0.0\n",
    "# scale: 정규 분포의 표준 편차 값, default = 1.0\n",
    "# size: 생성하려는 배열의 형상(shape), default = None\n",
    "\n",
    "np.random.normal(loc = 1.0, scale = 1.0, size = (2, 3))"
   ]
  },
  {
   "attachments": {},
   "cell_type": "markdown",
   "metadata": {},
   "source": [
    "#### linspace 함수\n",
    "##### numpy.linspace(start, stop, num=50, endpoint=True, retstep=False, dtype=None)\n",
    "- start: 시작 값, 범위에 포함\n",
    "- stop: 종료 값, 범위에 포함X\n",
    "- num: 생성하려는 값의 개수, default = 50\n",
    "- endpoint: 종료 값이 결과에 포함되는지 여부, default = True\n",
    "- retstep: 간격(step) 값을 함께 반환할지 여부, default = False\n",
    "- dtype: 생성된 배열의 데이터 유형, default = 입력 값에 따라 자동으로 결정\n"
   ]
  },
  {
   "cell_type": "code",
   "execution_count": null,
   "metadata": {},
   "outputs": [],
   "source": [
    "# 기본 사용법\n",
    "arr1 = np.linspace(0, 1, num=5)\n",
    "print(arr1)\n",
    "\n",
    "# 개수와 간격 확인\n",
    "arr2, step = np.linspace(0, 1, num=5, retstep=True)\n",
    "print(arr2)\n",
    "print(step)\n",
    "\n",
    "# 종료 값 포함하지 않음\n",
    "arr3 = np.linspace(0, 10, num=5, endpoint=False)\n",
    "print(arr3)\n",
    "\n",
    "# 데이터 유형 지정\n",
    "arr4 = np.linspace(1, 5, num=5, dtype=np.integer)\n",
    "print(arr4)\n",
    "\n"
   ]
  },
  {
   "attachments": {},
   "cell_type": "markdown",
   "metadata": {},
   "source": [
    "#### 배열 인덱싱 및 슬라이싱"
   ]
  },
  {
   "cell_type": "code",
   "execution_count": 7,
   "metadata": {},
   "outputs": [
    {
     "name": "stdout",
     "output_type": "stream",
     "text": [
      "[1 3 5]\n"
     ]
    }
   ],
   "source": [
    "arr = np.array([1, 2, 3, 4, 5])\n",
    "idx = np.array([0, 2, 4])\n",
    "\n",
    "# 인덱스 배열에 해당하는 요소만 선택\n",
    "print(arr[idx])  # [1 3 5]"
   ]
  }
 ],
 "metadata": {
  "kernelspec": {
   "display_name": "base",
   "language": "python",
   "name": "python3"
  },
  "language_info": {
   "codemirror_mode": {
    "name": "ipython",
    "version": 3
   },
   "file_extension": ".py",
   "mimetype": "text/x-python",
   "name": "python",
   "nbconvert_exporter": "python",
   "pygments_lexer": "ipython3",
   "version": "3.10.11"
  },
  "orig_nbformat": 4
 },
 "nbformat": 4,
 "nbformat_minor": 2
}
