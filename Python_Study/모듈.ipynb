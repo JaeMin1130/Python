{
 "cells": [
  {
   "cell_type": "code",
   "execution_count": null,
   "metadata": {},
   "outputs": [],
   "source": [
    "import numpy as np\n",
    "import random as rd\n",
    "from math import sqrt, cos\n",
    "\n",
    "# for i in dir(math):\n",
    "#     print(i)"
   ]
  },
  {
   "cell_type": "code",
   "execution_count": null,
   "metadata": {},
   "outputs": [],
   "source": [
    "import os, sys\n",
    "print(os.getcwd()) #현재 디렉토리 표시\n",
    "print(sys.path) #환경변수에 지정된 디렉토리\n",
    "\n",
    "import inspect\n",
    "import pandas as pd\n",
    "print(inspect.getfile(pd)) # 모듈 경로 확인"
   ]
  },
  {
   "cell_type": "code",
   "execution_count": null,
   "metadata": {},
   "outputs": [],
   "source": [
    "# 사용자 정의 모듈\n",
    "import mymath\n",
    "\n",
    "print(mymath.add(5,4))\n",
    "print(mymath.subtract(5,4))\n",
    "print(mymath.multiply(5,4))\n",
    "print(mymath.divide(5,3))"
   ]
  }
 ],
 "metadata": {
  "kernelspec": {
   "display_name": "base",
   "language": "python",
   "name": "python3"
  },
  "language_info": {
   "codemirror_mode": {
    "name": "ipython",
    "version": 3
   },
   "file_extension": ".py",
   "mimetype": "text/x-python",
   "name": "python",
   "nbconvert_exporter": "python",
   "pygments_lexer": "ipython3",
   "version": "3.10.11"
  },
  "orig_nbformat": 4
 },
 "nbformat": 4,
 "nbformat_minor": 2
}
