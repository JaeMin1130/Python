{
 "cells": [
  {
   "attachments": {},
   "cell_type": "markdown",
   "metadata": {},
   "source": [
    "#### 정규표현식에서 사용되는 일부 메타문자들\n",
    "- . : 줄바꿈 문자(\\n)를 제외한 모든 문자와 매칭됩니다.\n",
    "- ^ : 문자열의 시작과 매칭됩니다.\n",
    "- $ : 문자열의 끝과 매칭됩니다.\n",
    "- \\* : 앞의 문자가 0번 이상 반복되는 패턴과 매칭됩니다.\n",
    "- \\+ : 앞의 문자가 1번 이상 반복되는 패턴과 매칭됩니다.\n",
    "- ? : 앞의 문자가 0번 또는 1번 나타나는 패턴과 매칭됩니다.\n",
    "- [] : 대괄호 안에 나열된 문자 중 하나와 매칭됩니다.\n",
    "- [a-z] : 알파벳 소문자 중 하나와 매칭됩니다.\n",
    "- [A-Z] : 알파벳 대문자 중 하나와 매칭됩니다.\n",
    "- [0-9] : 숫자 중 하나와 매칭됩니다.\n",
    "- | : OR 연산자 역할을 하며, 왼쪽 또는 오른쪽 패턴 중 하나와 매칭됩니다.\n",
    "- () : 그룹핑을 위해 사용되며, 매칭 결과에 대한 그룹을 생성합니다.\n",
    "- {} : 중괄호 안에 숫자가 들어가며, 앞의 문자나 패턴이 해당 숫자만큼 나타나는 패턴과 매칭됩니다.\n",
    "- () : 그룹핑을 위해 사용되며, 매칭 결과에 대한 그룹을 생성합니다.\n",
    "- \\ : 이스케이프 문자로 사용되며, 메타문자를 문자 그대로 매칭시키기 위해 사용됩니다.\n",
    "- \\d : 숫자와 매칭됩니다.\n",
    "- \\D : 숫자가 아닌 문자와 매칭됩니다.\n",
    "- \\w : 숫자와 알파벳(대소문자), 언더스코어(_)와 매칭됩니다.\n",
    "- \\W : 숫자와 알파벳(대소문자), 언더스코어(_)가 아닌 문자와 매칭됩니다.\n",
    "- \\s : 공백 문자와 매칭됩니다.\n",
    "- \\S : 공백 문자가 아닌 문자와 매칭됩니다.\n"
   ]
  },
  {
   "attachments": {},
   "cell_type": "markdown",
   "metadata": {},
   "source": [
    "#### 정규표현식을 활용한 실제 예제\n"
   ]
  },
  {
   "cell_type": "code",
   "execution_count": null,
   "metadata": {},
   "outputs": [],
   "source": [
    "# 문자열에서 메일 주소 추출\n",
    "import re\n",
    "\n",
    "# \\b : 단어 경계\n",
    "# [A-Za-z0-9._%+-]+ : 이메일 주소의 로컬 파트(local part)로 사용될 수 있는 문자들\n",
    "# @ : 이메일 주소의 구분자\n",
    "# [A-Za-z0-9.-]+ : 이메일 주소의 도메인 파트(domain part)로 사용될 수 있는 문자들\n",
    "# \\. : 도메인 파트와 TLD(top-level domain)를 구분하는 점(.)\n",
    "# [A-Z|a-z]{2,} : TLD로 사용될 수 있는 대문자 또는 소문자 문자들, 최소 2자리 이상\n",
    "\n",
    "def extract_email(string):\n",
    "    pattern = r'\\b [A-Za-z0-9._%+-] + @ [A-Za-z0-9.-] + \\.[A-Z|a-z]{2,}\\b'\n",
    "    emails = re.findall(pattern, string)\n",
    "    return emails\n",
    "\n",
    "string = \"John's email is john.doe123@example.com. Jane can be reached at jane@example.co.uk.\"\n",
    "\n",
    "emails = extract_email(string)\n",
    "print(emails)  # ['john.doe123@example.com', 'jane@example.co.uk']"
   ]
  },
  {
   "cell_type": "code",
   "execution_count": null,
   "metadata": {},
   "outputs": [],
   "source": [
    "# 메일 주소의 유효성 검증\n",
    "import re\n",
    "\n",
    "def is_valid_email(email):\n",
    "    pattern = r'^[a-zA-Z0-9+-_.]+@[a-zA-Z0-9-]+\\.[a-zA-Z0-9-.]+$'\n",
    "    if re.match(pattern, email):\n",
    "        return True\n",
    "    else:\n",
    "        return False\n",
    "\n",
    "email1 = 'example@example.com'\n",
    "email2 = 'example@example.co.kr'\n",
    "email3 = 'example.example.com'\n",
    "email4 = 'example@example.'\n",
    "email5 = 'example@example'\n",
    "\n",
    "print(is_valid_email(email1))  # True\n",
    "print(is_valid_email(email2))  # True\n",
    "print(is_valid_email(email3))  # False\n",
    "print(is_valid_email(email4))  # False\n",
    "print(is_valid_email(email5))  # False"
   ]
  },
  {
   "cell_type": "code",
   "execution_count": null,
   "metadata": {},
   "outputs": [],
   "source": [
    "# 전화 번호의 유효성 검증\n",
    "import re\n",
    "\n",
    "def is_valid_phone_number(phone_number):\n",
    "    pattern = r'^\\d{2,3}-\\d{3,4}-\\d{4}$'\n",
    "    if re.match(pattern, phone_number):\n",
    "        return True\n",
    "    else:\n",
    "        return False\n",
    "\n",
    "phone_number1 = '010-1234-5678'\n",
    "phone_number2 = '02-123-4567'\n",
    "phone_number3 = '123-4567'\n",
    "\n",
    "print(is_valid_phone_number(phone_number1))  # True\n",
    "print(is_valid_phone_number(phone_number2))  # True\n",
    "print(is_valid_phone_number(phone_number3))  # False"
   ]
  },
  {
   "cell_type": "code",
   "execution_count": null,
   "metadata": {},
   "outputs": [],
   "source": [
    "# 로그 데이터에서 IP 주소를 추출\n",
    "import re\n",
    "\n",
    "log_data = [\n",
    "    '192.168.0.1 - - [21/Feb/2022:10:12:01 +0900] \"GET /index.html HTTP/1.1\" 200 2326',\n",
    "    '192.168.0.2 - - [21/Feb/2022:10:12:02 +0900] \"GET /images/banner.jpg HTTP/1.1\" 200 6571',\n",
    "    '192.168.0.3 - - [21/Feb/2022:10:12:03 +0900] \"POST /login.php HTTP/1.1\" 302 -',\n",
    "    '192.168.0.4 - - [21/Feb/2022:10:12:04 +0900] \"GET /favicon.ico HTTP/1.1\" 404 209'\n",
    "]\n",
    "\n",
    "ip_pattern = r'\\d{1,3}\\.\\d{1,3}\\.\\d{1,3}\\.\\d{1,3}'\n",
    "\n",
    "for log in log_data:\n",
    "    ip = re.findall(ip_pattern, log)\n",
    "    print(ip)"
   ]
  }
 ],
 "metadata": {
  "kernelspec": {
   "display_name": "base",
   "language": "python",
   "name": "python3"
  },
  "language_info": {
   "codemirror_mode": {
    "name": "ipython",
    "version": 3
   },
   "file_extension": ".py",
   "mimetype": "text/x-python",
   "name": "python",
   "nbconvert_exporter": "python",
   "pygments_lexer": "ipython3",
   "version": "3.10.11"
  },
  "orig_nbformat": 4
 },
 "nbformat": 4,
 "nbformat_minor": 2
}
